{
 "cells": [
  {
   "cell_type": "markdown",
   "metadata": {
    "deletable": true,
    "editable": true
   },
   "source": [
    "# Data import\n",
    "Import sequenced data from a `json` file."
   ]
  },
  {
   "cell_type": "code",
   "execution_count": 1,
   "metadata": {
    "collapsed": false,
    "deletable": true,
    "editable": true
   },
   "outputs": [
    {
     "name": "stderr",
     "output_type": "stream",
     "text": [
      "Using TensorFlow backend.\n"
     ]
    }
   ],
   "source": [
    "import pandas as pd\n",
    "from datetime import date\n",
    "import numpy as np\n",
    "import matplotlib.pyplot as plt\n",
    "from sklearn.model_selection import train_test_split\n",
    "from sklearn.linear_model import LogisticRegression\n",
    "from sklearn.svm import SVC\n",
    "from sklearn.metrics import accuracy_score\n",
    "from sklearn.ensemble import RandomForestClassifier\n",
    "from sklearn.preprocessing import Imputer, StandardScaler\n",
    "from keras.models import Sequential\n",
    "from keras.layers import Dense, Dropout\n",
    "from pprint import pprint\n",
    "import random\n",
    "import warnings\n",
    "import matplotlib.pyplot as plt\n",
    "warnings.filterwarnings('ignore')\n",
    "pd.options.mode.chained_assignment = None\n",
    "%matplotlib inline\n",
    "plt.style.use('seaborn-whitegrid')\n",
    "plt.style.use('seaborn-muted')"
   ]
  },
  {
   "cell_type": "code",
   "execution_count": 2,
   "metadata": {
    "collapsed": true,
    "deletable": true,
    "editable": true
   },
   "outputs": [],
   "source": [
    "def get_data():\n",
    "    \"\"\"Returns a DataFrame with transformed data.\"\"\"\n",
    "    data_file = 'fightmetric/data/final.json'\n",
    "    frame = pd.read_json(data_file)\n",
    "    return frame\n",
    "    \n",
    "\n",
    "def get_label(event_date):\n",
    "    \"\"\"Helper function for choosing train and test \n",
    "    labels based on fight's date.\"\"\"\n",
    "    event_date = event_date.date()\n",
    "    # All fights after 2015 should be \n",
    "    # associated to the test set.\n",
    "    if event_date >= date(2015, 1, 1):\n",
    "        return 'test'\n",
    "    return 'train'\n",
    "\n",
    "\n",
    "def train_test_split(data):\n",
    "    \"\"\"Returns train and test data.\"\"\"\n",
    "    data = data[(data['result'] == 'Win') | (data['result'] == 'Loss')]\n",
    "    data['set'] = data['date'].apply(get_label)\n",
    "    train = data.loc[data['set'] == 'train']\n",
    "    test = data.loc[data['set'] == 'test']\n",
    "    assert len(data) == len(train) + len(test)\n",
    "    \n",
    "    return train, test\n",
    "\n",
    "def split(data):\n",
    "    data = data[(data['result'] == 'Win') | (data['result'] == 'Loss')]\n",
    "    y = data['result'].map({'Win': 1, 'Loss': 0})\n",
    "    x = data.drop(['result'], axis=1)\n",
    "    return x, y"
   ]
  },
  {
   "cell_type": "markdown",
   "metadata": {
    "deletable": true,
    "editable": true
   },
   "source": [
    "# Data exploration"
   ]
  },
  {
   "cell_type": "code",
   "execution_count": 3,
   "metadata": {
    "collapsed": false,
    "deletable": true,
    "editable": true
   },
   "outputs": [],
   "source": [
    "data = get_data()\n",
    "train, test = train_test_split(data)\n",
    "datasets = [train, test]"
   ]
  },
  {
   "cell_type": "markdown",
   "metadata": {},
   "source": [
    "Calculating the offense accuracy averages over the training dataset."
   ]
  },
  {
   "cell_type": "code",
   "execution_count": 4,
   "metadata": {
    "collapsed": false,
    "deletable": true,
    "editable": true
   },
   "outputs": [
    {
     "name": "stdout",
     "output_type": "stream",
     "text": [
      "body: 0.7473003379873279,\n",
      "clinch: 0.6571087641322761,\n",
      "distance: 0.3455062095114903,\n",
      "ground: 0.6262766775935562,\n",
      "head: 0.3628908924004376,\n",
      "knockouts: 0.9343414859964508,\n",
      "leg: 0.7791716658682076,\n",
      "sig. str: 0.44421437047191575,\n",
      "submissions: 0.2572297418162304,\n",
      "td: 0.4768224733013465,\n",
      "total str.: 0.5933736946615897,\n"
     ]
    }
   ],
   "source": [
    "keys = ['body', 'clinch', 'distance', 'ground', 'head', \n",
    "        'knockouts', 'leg', 'sig. str', 'submissions', 'td', 'total str.']\n",
    "\n",
    "for key in keys:\n",
    "    landed = train['fighter'].apply(lambda x: x['stats'][key]['landed'])\n",
    "    thrown = train['fighter'].apply(lambda x: x['stats'][key]['thrown'])\n",
    "    print(\"{}: {},\".format(key, (landed.sum() / thrown.sum())))"
   ]
  },
  {
   "cell_type": "markdown",
   "metadata": {},
   "source": [
    "Calculating the defense accuracy averages over the training dataset."
   ]
  },
  {
   "cell_type": "code",
   "execution_count": 5,
   "metadata": {
    "collapsed": false,
    "deletable": true,
    "editable": true
   },
   "outputs": [
    {
     "name": "stdout",
     "output_type": "stream",
     "text": [
      "body: 0.2876221212962016,\n",
      "clinch: 0.3741905657569338,\n",
      "distance: 0.6827144917612437,\n",
      "ground: 0.3980045751295038,\n",
      "head: 0.6875411808215335,\n",
      "knockouts: 0.3100940975192472,\n",
      "leg: 0.24724693306549966,\n",
      "sig. str: 0.6002153958424062,\n",
      "submissions: 0.8462684763784285,\n",
      "td: 0.6195488480886924,\n",
      "total str.: 0.4412454210775378,\n"
     ]
    }
   ],
   "source": [
    "for key in keys:\n",
    "    avoided = train['fighter'].apply(lambda x: x['stats'][key]['avoided'])\n",
    "    received = train['fighter'].apply(lambda x: x['stats'][key]['received'])\n",
    "    total = avoided + received\n",
    "    print(\"{}: {},\".format(key, (avoided.sum() / total.sum())))"
   ]
  },
  {
   "cell_type": "markdown",
   "metadata": {
    "deletable": true,
    "editable": true
   },
   "source": [
    "# Data preparation"
   ]
  },
  {
   "cell_type": "code",
   "execution_count": 6,
   "metadata": {
    "collapsed": true,
    "deletable": true,
    "editable": true
   },
   "outputs": [],
   "source": [
    "def offense_accuracy(fighter, key):\n",
    "    \"\"\"Calculates the accuracy \n",
    "    for a offensive statistics.\"\"\"\n",
    "    landed = fighter['stats'][key]['landed']\n",
    "    total = fighter['stats'][key]['thrown']\n",
    "    \n",
    "    return landed / (total + .1)\n",
    "\n",
    "    \n",
    "def defense_accuracy(fighter, key):\n",
    "    \"\"\"Calculates the accuracy \n",
    "    for a defensive statistics.\"\"\"\n",
    "    avoided = fighter['stats'][key]['avoided']\n",
    "    received = fighter['stats'][key]['received']\n",
    "    total = avoided + received\n",
    "    \n",
    "    return avoided / (total + .1)\n",
    "\n",
    "    \n",
    "def accuracy(dataset, key):\n",
    "    \"\"\"Calculates the accuracy for a statistic.\"\"\"\n",
    "    def calc(fighter, key):\n",
    "        offense = offense_accuracy(fighter, key)\n",
    "        defense = defense_accuracy(fighter, key)\n",
    "        return offense + defense\n",
    "        \n",
    "    \n",
    "    fighter = dataset['fighter'].apply(lambda x: calc(x, key))\n",
    "    opponent = dataset['opponent'].apply(lambda x: calc(x, key))\n",
    "    return fighter - opponent\n",
    "\n",
    "\n",
    "def probability(positive, both):\n",
    "    \"\"\"Helper funcition for calculating probabilites.\"\"\"\n",
    "    try:\n",
    "        return positive / both\n",
    "    except Exception:\n",
    "        return 0.5"
   ]
  },
  {
   "cell_type": "markdown",
   "metadata": {},
   "source": [
    "## Tranforming the datasets"
   ]
  },
  {
   "cell_type": "code",
   "execution_count": 7,
   "metadata": {
    "collapsed": true,
    "deletable": true,
    "editable": true
   },
   "outputs": [],
   "source": [
    "for dataset in datasets:\n",
    "    \"\"\"\n",
    "    Historical features\n",
    "    \"\"\"\n",
    "    # Probabilities\n",
    "    fighter = dataset['fighter'].apply(lambda x: probability(x['history']['wins'], x['history']['fights']))\n",
    "    opponent = dataset['opponent'].apply(lambda x: probability(x['history']['wins'], x['history']['fights']))\n",
    "    dataset['Win probability'] = fighter - opponent\n",
    "    # Streak wins minus losses\n",
    "    fighter = dataset['fighter'].apply(lambda x: x['streak']['wins'] - x['streak']['losses'])\n",
    "    opponent = dataset['opponent'].apply(lambda x: x['streak']['wins'] - x['streak']['losses'])\n",
    "    dataset['Streak'] = fighter - opponent\n",
    "    # Time spent in the octagon\n",
    "    fighter = dataset['fighter'].apply(lambda x: x['history']['time'])\n",
    "    opponent = dataset['opponent'].apply(lambda x: x['history']['time'])\n",
    "    dataset['Time'] = fighter - opponent\n",
    "    # Avg position in the fightcard\n",
    "    fighter = dataset['fighter'].apply(lambda x: x['history']['position'] / \n",
    "                                                (x['history']['fights'] + .1))\n",
    "    opponent = dataset['opponent'].apply(lambda x: x['history']['position'] / \n",
    "                                                  (x['history']['fights'] + .1))\n",
    "    dataset['Avg position'] = fighter - opponent\n",
    "    # Is first fight\n",
    "    dataset['Is first'] = dataset['fighter'].apply(lambda x: x['history']['fights'] > 0).astype(int)\n",
    "    \n",
    "    \n",
    "    \"\"\"\n",
    "    Physiacal features\n",
    "    \"\"\"\n",
    "    # Difference in age\n",
    "    fighter = dataset['fighter'].apply(lambda x: x['age'])\n",
    "    opponent = dataset['opponent'].apply(lambda x: x['age'])\n",
    "    dataset['Age'] = fighter - opponent\n",
    "    # Difference in reach\n",
    "    fighter = dataset['fighter'].apply(lambda x: x['reach'])\n",
    "    opponent = dataset['opponent'].apply(lambda x: x['reach'])\n",
    "    dataset['Reach'] = fighter - opponent\n",
    "    # Knockouts\n",
    "    fighter = dataset['fighter'].apply(lambda x: x['stats']['knockouts']['landed'])\n",
    "    opponent = dataset['opponent'].apply(lambda x: x['stats']['knockouts']['landed'])\n",
    "    dataset['Knockouts'] = fighter - opponent\n",
    "    # Submissions\n",
    "    fighter = dataset['fighter'].apply(lambda x: x['stats']['submissions']['landed'])\n",
    "    opponent = dataset['opponent'].apply(lambda x: x['stats']['submissions']['landed'])\n",
    "    dataset['Submissions'] = fighter - opponent\n",
    "    \n",
    "    \n",
    "    \n",
    "    \"\"\"\n",
    "    Performance features\n",
    "    \"\"\"\n",
    "    dataset['Striking'] = accuracy(dataset, 'sig. str')\n",
    "    dataset['Takedowns'] = accuracy(dataset, 'td')"
   ]
  },
  {
   "cell_type": "markdown",
   "metadata": {
    "deletable": true,
    "editable": true
   },
   "source": [
    "## Feature selection and scaling"
   ]
  },
  {
   "cell_type": "code",
   "execution_count": 8,
   "metadata": {
    "collapsed": true,
    "deletable": true,
    "editable": true
   },
   "outputs": [],
   "source": [
    "# Removing unneccessary features from both datasets\n",
    "for dataset in datasets:\n",
    "    for key in ['date', 'event', 'fighter', 'link', 'opponent', \n",
    "                'location', 'method', 'referee', 'set']:\n",
    "        if key in dataset:\n",
    "            dataset.drop([key], axis=1, inplace=True)\n",
    "            \n",
    "\n",
    "# Imputing NaN values\n",
    "train = train.replace([np.inf, -np.inf], np.nan)\n",
    "xtrain, ytrain = split(train)\n",
    "imputer = Imputer(strategy='median')\n",
    "imputer.fit(xtrain)\n",
    "xtrain = pd.DataFrame(imputer.transform(xtrain), columns=xtrain.columns)\n",
    "assert len(xtrain) == len(ytrain) == len(train)\n",
    "\n",
    "test = test.replace([np.inf, -np.inf], np.nan) \n",
    "xtest, ytest = split(test)\n",
    "xtest = pd.DataFrame(imputer.transform(xtest), columns=xtest.columns)\n",
    "assert len(test) == len(ytest) == len(xtest)\n",
    "\n",
    "# Scaling the datasets\n",
    "scaler = StandardScaler()\n",
    "scaler.fit(xtrain)\n",
    "xtrain = pd.DataFrame(scaler.transform(xtrain), columns=xtrain.columns)\n",
    "xtest = pd.DataFrame(scaler.transform(xtest), columns=xtest.columns)"
   ]
  },
  {
   "cell_type": "markdown",
   "metadata": {},
   "source": [
    "## Overview"
   ]
  },
  {
   "cell_type": "code",
   "execution_count": 9,
   "metadata": {
    "collapsed": false,
    "deletable": true,
    "editable": true
   },
   "outputs": [
    {
     "name": "stdout",
     "output_type": "stream",
     "text": [
      "Dataset of 12 features with 9282 rows.\n",
      "Dataset of 12 features with 2554 rows.\n"
     ]
    },
    {
     "data": {
      "text/html": [
       "<div>\n",
       "<style scoped>\n",
       "    .dataframe tbody tr th:only-of-type {\n",
       "        vertical-align: middle;\n",
       "    }\n",
       "\n",
       "    .dataframe tbody tr th {\n",
       "        vertical-align: top;\n",
       "    }\n",
       "\n",
       "    .dataframe thead th {\n",
       "        text-align: right;\n",
       "    }\n",
       "</style>\n",
       "<table border=\"1\" class=\"dataframe\">\n",
       "  <thead>\n",
       "    <tr style=\"text-align: right;\">\n",
       "      <th></th>\n",
       "      <th>Win probability</th>\n",
       "      <th>Streak</th>\n",
       "      <th>Time</th>\n",
       "      <th>Avg position</th>\n",
       "      <th>Is first</th>\n",
       "      <th>Age</th>\n",
       "      <th>Reach</th>\n",
       "      <th>Knockouts</th>\n",
       "      <th>Submissions</th>\n",
       "      <th>Striking</th>\n",
       "      <th>Takedowns</th>\n",
       "    </tr>\n",
       "  </thead>\n",
       "  <tbody>\n",
       "    <tr>\n",
       "      <th>9277</th>\n",
       "      <td>-0.627380</td>\n",
       "      <td>-0.405441</td>\n",
       "      <td>-0.707055</td>\n",
       "      <td>-1.211207</td>\n",
       "      <td>-1.939072</td>\n",
       "      <td>-0.199270</td>\n",
       "      <td>-0.769245</td>\n",
       "      <td>-1.544806</td>\n",
       "      <td>0.000000</td>\n",
       "      <td>-1.836196</td>\n",
       "      <td>-1.349384</td>\n",
       "    </tr>\n",
       "    <tr>\n",
       "      <th>9278</th>\n",
       "      <td>-1.463886</td>\n",
       "      <td>0.000000</td>\n",
       "      <td>0.108441</td>\n",
       "      <td>-0.526321</td>\n",
       "      <td>0.515711</td>\n",
       "      <td>0.000000</td>\n",
       "      <td>-1.153867</td>\n",
       "      <td>-0.386201</td>\n",
       "      <td>0.000000</td>\n",
       "      <td>-0.605722</td>\n",
       "      <td>0.563001</td>\n",
       "    </tr>\n",
       "    <tr>\n",
       "      <th>9279</th>\n",
       "      <td>-2.927772</td>\n",
       "      <td>-1.621763</td>\n",
       "      <td>0.031608</td>\n",
       "      <td>0.282416</td>\n",
       "      <td>0.515711</td>\n",
       "      <td>0.597809</td>\n",
       "      <td>-2.692357</td>\n",
       "      <td>0.000000</td>\n",
       "      <td>-0.435536</td>\n",
       "      <td>-0.669989</td>\n",
       "      <td>-0.607997</td>\n",
       "    </tr>\n",
       "    <tr>\n",
       "      <th>9280</th>\n",
       "      <td>-0.292777</td>\n",
       "      <td>-0.810881</td>\n",
       "      <td>-0.727479</td>\n",
       "      <td>-2.442069</td>\n",
       "      <td>-1.939072</td>\n",
       "      <td>-0.398539</td>\n",
       "      <td>0.000000</td>\n",
       "      <td>0.000000</td>\n",
       "      <td>-0.871072</td>\n",
       "      <td>-1.604566</td>\n",
       "      <td>-0.956377</td>\n",
       "    </tr>\n",
       "    <tr>\n",
       "      <th>9281</th>\n",
       "      <td>-1.254760</td>\n",
       "      <td>0.000000</td>\n",
       "      <td>-0.897678</td>\n",
       "      <td>0.774565</td>\n",
       "      <td>0.515711</td>\n",
       "      <td>-0.597809</td>\n",
       "      <td>0.000000</td>\n",
       "      <td>-0.386201</td>\n",
       "      <td>0.000000</td>\n",
       "      <td>-0.387814</td>\n",
       "      <td>-1.303593</td>\n",
       "    </tr>\n",
       "  </tbody>\n",
       "</table>\n",
       "</div>"
      ],
      "text/plain": [
       "      Win probability    Streak      Time  Avg position  Is first       Age  \\\n",
       "9277        -0.627380 -0.405441 -0.707055     -1.211207 -1.939072 -0.199270   \n",
       "9278        -1.463886  0.000000  0.108441     -0.526321  0.515711  0.000000   \n",
       "9279        -2.927772 -1.621763  0.031608      0.282416  0.515711  0.597809   \n",
       "9280        -0.292777 -0.810881 -0.727479     -2.442069 -1.939072 -0.398539   \n",
       "9281        -1.254760  0.000000 -0.897678      0.774565  0.515711 -0.597809   \n",
       "\n",
       "         Reach  Knockouts  Submissions  Striking  Takedowns  \n",
       "9277 -0.769245  -1.544806     0.000000 -1.836196  -1.349384  \n",
       "9278 -1.153867  -0.386201     0.000000 -0.605722   0.563001  \n",
       "9279 -2.692357   0.000000    -0.435536 -0.669989  -0.607997  \n",
       "9280  0.000000   0.000000    -0.871072 -1.604566  -0.956377  \n",
       "9281  0.000000  -0.386201     0.000000 -0.387814  -1.303593  "
      ]
     },
     "execution_count": 9,
     "metadata": {},
     "output_type": "execute_result"
    }
   ],
   "source": [
    "for dataset in datasets:\n",
    "    print('Dataset of {} features with {} rows.'.format(len(list(dataset.columns)),\n",
    "                                                        len(dataset)))\n",
    "    \n",
    "xtrain.tail()"
   ]
  },
  {
   "cell_type": "markdown",
   "metadata": {
    "deletable": true,
    "editable": true
   },
   "source": [
    "# Model selection"
   ]
  },
  {
   "cell_type": "code",
   "execution_count": 10,
   "metadata": {
    "collapsed": false,
    "deletable": true,
    "editable": true
   },
   "outputs": [
    {
     "name": "stdout",
     "output_type": "stream",
     "text": [
      "LogisticRegression training 65.03%\n",
      "LogisticRegression testing 60.45%\n"
     ]
    },
    {
     "data": {
      "text/html": [
       "<div>\n",
       "<style scoped>\n",
       "    .dataframe tbody tr th:only-of-type {\n",
       "        vertical-align: middle;\n",
       "    }\n",
       "\n",
       "    .dataframe tbody tr th {\n",
       "        vertical-align: top;\n",
       "    }\n",
       "\n",
       "    .dataframe thead th {\n",
       "        text-align: right;\n",
       "    }\n",
       "</style>\n",
       "<table border=\"1\" class=\"dataframe\">\n",
       "  <thead>\n",
       "    <tr style=\"text-align: right;\">\n",
       "      <th></th>\n",
       "      <th>Importance</th>\n",
       "    </tr>\n",
       "  </thead>\n",
       "  <tbody>\n",
       "    <tr>\n",
       "      <th>Striking</th>\n",
       "      <td>0.552694</td>\n",
       "    </tr>\n",
       "    <tr>\n",
       "      <th>Age</th>\n",
       "      <td>-0.364651</td>\n",
       "    </tr>\n",
       "    <tr>\n",
       "      <th>Avg position</th>\n",
       "      <td>-0.332880</td>\n",
       "    </tr>\n",
       "    <tr>\n",
       "      <th>Takedowns</th>\n",
       "      <td>0.222145</td>\n",
       "    </tr>\n",
       "    <tr>\n",
       "      <th>Streak</th>\n",
       "      <td>0.135105</td>\n",
       "    </tr>\n",
       "  </tbody>\n",
       "</table>\n",
       "</div>"
      ],
      "text/plain": [
       "              Importance\n",
       "Striking        0.552694\n",
       "Age            -0.364651\n",
       "Avg position   -0.332880\n",
       "Takedowns       0.222145\n",
       "Streak          0.135105"
      ]
     },
     "execution_count": 10,
     "metadata": {},
     "output_type": "execute_result"
    }
   ],
   "source": [
    "from sklearn.linear_model import LogisticRegression, LogisticRegressionCV\n",
    "from sklearn.metrics import accuracy_score\n",
    "\n",
    "logreg = LogisticRegression()\n",
    "logreg.fit(xtrain, ytrain)\n",
    "\n",
    "print('LogisticRegression training {:.2f}%'.format(accuracy_score(ytrain, logreg.predict(xtrain))*100))\n",
    "print('LogisticRegression testing {:.2f}%'.format(accuracy_score(ytest, logreg.predict(xtest))*100))\n",
    "feats = {feature: importance for feature, importance in zip(xtrain.columns, logreg.coef_[0])}\n",
    "importances = pd.DataFrame.from_dict(feats, orient='index')\n",
    "importances = importances.rename(columns={0: 'Importance', 1: 'Feature'})\n",
    "importances = importances.iloc[importances['Importance'].abs().argsort()].iloc[::-1]\n",
    "importances.head(5)"
   ]
  },
  {
   "cell_type": "code",
   "execution_count": 11,
   "metadata": {
    "collapsed": false,
    "deletable": true,
    "editable": true
   },
   "outputs": [
    {
     "name": "stdout",
     "output_type": "stream",
     "text": [
      "SVC training 67.23%\n",
      "SVC testing 60.06%\n"
     ]
    }
   ],
   "source": [
    "svc = SVC()\n",
    "svc.fit(xtrain, ytrain)\n",
    "\n",
    "print('SVC training {:.2f}%'.format(accuracy_score(ytrain, svc.predict(xtrain))*100))\n",
    "print('SVC testing {:.2f}%'.format(accuracy_score(ytest, svc.predict(xtest))*100))"
   ]
  },
  {
   "cell_type": "code",
   "execution_count": 12,
   "metadata": {
    "collapsed": false,
    "deletable": true,
    "editable": true
   },
   "outputs": [
    {
     "name": "stdout",
     "output_type": "stream",
     "text": [
      "RandomForestClassifier training 68.34%\n",
      "RandomForestClassifier testing 59.28%\n"
     ]
    },
    {
     "data": {
      "text/html": [
       "<div>\n",
       "<style scoped>\n",
       "    .dataframe tbody tr th:only-of-type {\n",
       "        vertical-align: middle;\n",
       "    }\n",
       "\n",
       "    .dataframe tbody tr th {\n",
       "        vertical-align: top;\n",
       "    }\n",
       "\n",
       "    .dataframe thead th {\n",
       "        text-align: right;\n",
       "    }\n",
       "</style>\n",
       "<table border=\"1\" class=\"dataframe\">\n",
       "  <thead>\n",
       "    <tr style=\"text-align: right;\">\n",
       "      <th></th>\n",
       "      <th>Importance</th>\n",
       "    </tr>\n",
       "  </thead>\n",
       "  <tbody>\n",
       "    <tr>\n",
       "      <th>Striking</th>\n",
       "      <td>0.208584</td>\n",
       "    </tr>\n",
       "    <tr>\n",
       "      <th>Time</th>\n",
       "      <td>0.164636</td>\n",
       "    </tr>\n",
       "    <tr>\n",
       "      <th>Takedowns</th>\n",
       "      <td>0.154359</td>\n",
       "    </tr>\n",
       "    <tr>\n",
       "      <th>Age</th>\n",
       "      <td>0.151481</td>\n",
       "    </tr>\n",
       "    <tr>\n",
       "      <th>Win probability</th>\n",
       "      <td>0.102990</td>\n",
       "    </tr>\n",
       "  </tbody>\n",
       "</table>\n",
       "</div>"
      ],
      "text/plain": [
       "                 Importance\n",
       "Striking           0.208584\n",
       "Time               0.164636\n",
       "Takedowns          0.154359\n",
       "Age                0.151481\n",
       "Win probability    0.102990"
      ]
     },
     "execution_count": 12,
     "metadata": {},
     "output_type": "execute_result"
    }
   ],
   "source": [
    "rndf = RandomForestClassifier(min_samples_split=256, random_state=42)\n",
    "rndf.fit(xtrain, ytrain)\n",
    "\n",
    "print('RandomForestClassifier training {:.2f}%'.format(accuracy_score(ytrain, rndf.predict(xtrain))*100))\n",
    "print('RandomForestClassifier testing {:.2f}%'.format(accuracy_score(ytest, rndf.predict(xtest))*100))\n",
    "feats = {feature: importance for feature, importance in zip(xtrain.columns, rndf.feature_importances_)}\n",
    "importances = pd.DataFrame.from_dict(feats, orient='index')\n",
    "importances = importances.rename(columns={0: 'Importance', 1: 'Feature'})\n",
    "importances = importances.iloc[importances['Importance'].abs().argsort()].iloc[::-1]\n",
    "importances.head(5)"
   ]
  },
  {
   "cell_type": "code",
   "execution_count": 13,
   "metadata": {
    "collapsed": false,
    "deletable": true,
    "editable": true
   },
   "outputs": [],
   "source": [
    "input_dim = xtrain.shape[1]\n",
    "model = Sequential()\n",
    "model.add(Dense(8, input_dim=input_dim, activation='relu'))\n",
    "model.add(Dropout(0.5))\n",
    "model.add(Dense(4, activation='relu'))\n",
    "model.add(Dense(1, activation='sigmoid'))\n",
    "model.compile(loss='binary_crossentropy', optimizer='nadam', metrics=['accuracy'])"
   ]
  },
  {
   "cell_type": "code",
   "execution_count": 14,
   "metadata": {
    "collapsed": false,
    "deletable": true,
    "editable": true
   },
   "outputs": [],
   "source": [
    "# Training the network\n",
    "batch_size = 512\n",
    "verbosity = 0 # 1 to see the output at each epoch\n",
    "hist = model.fit(xtrain.values, ytrain, epochs=100, batch_size=batch_size, validation_split=0.2, verbose=verbosity)"
   ]
  },
  {
   "cell_type": "code",
   "execution_count": 15,
   "metadata": {
    "collapsed": false,
    "deletable": true,
    "editable": true
   },
   "outputs": [
    {
     "name": "stdout",
     "output_type": "stream",
     "text": [
      "\n",
      "Neural Network testing 59.36%\n"
     ]
    }
   ],
   "source": [
    "scores = model.evaluate(xtest.values, ytest, batch_size=batch_size, verbose=verbosity)\n",
    "print('\\nNeural Network testing {:.2f}%'.format(scores[1]*100))"
   ]
  },
  {
   "cell_type": "code",
   "execution_count": 16,
   "metadata": {
    "collapsed": false
   },
   "outputs": [
    {
     "data": {
      "image/png": "[encoded data removed]",
      "text/plain": [
       "<matplotlib.figure.Figure at 0x7f946a3d16a0>"
      ]
     },
     "metadata": {},
     "output_type": "display_data"
    }
   ],
   "source": [
    "plt.plot(hist.history['loss'])\n",
    "plt.plot(hist.history['val_loss'])\n",
    "plt.ylabel('Loss')\n",
    "plt.xlabel('Epoch')\n",
    "plt.legend(['Training', 'Validation'], loc='upper right')\n",
    "plt.show()"
   ]
  },
  {
   "cell_type": "markdown",
   "metadata": {},
   "source": [
    "# Neural Network with raw data"
   ]
  },
  {
   "cell_type": "code",
   "execution_count": 17,
   "metadata": {
    "collapsed": false,
    "deletable": true,
    "editable": true
   },
   "outputs": [],
   "source": [
    "def get_flat_data(raw):\n",
    "    \"\"\"Helper function for flattening the dataset.\n",
    "    Extracts nested values in a dictionary\n",
    "    and saves them as columns.\n",
    "    \"\"\"\n",
    "    # Make a copy fo data\n",
    "    data = raw.copy(deep=True)\n",
    "    # Flatten the structure\n",
    "    for fighter in ['fighter', 'opponent']:\n",
    "        for a in data.iloc[0][fighter].keys():\n",
    "            if a in ['history', 'current', 'bonus', 'streak']:\n",
    "                for b in data.iloc[0][fighter][a]:\n",
    "                    if b not in ['rounds']:\n",
    "                        key = '{} {} {}'.format(fighter, a, b)\n",
    "                        data[key] = data[fighter].apply(lambda x: x[a][b])\n",
    "            elif a in ['stats']:\n",
    "                for b in data.iloc[0][fighter][a]:\n",
    "                    for c in data.iloc[0][fighter][a][b].keys():\n",
    "                        key = '{} {} {} {}'.format(fighter, a, b, c)\n",
    "                        data[key] = data[fighter].apply(lambda x: x[a][b][c])\n",
    "            elif a in ['name', 'stance']:\n",
    "                continue\n",
    "            else:\n",
    "                key = '{} {}'.format(fighter, a)\n",
    "                data[key] = data[fighter].apply(lambda x: x[a])\n",
    "\n",
    "    # Drop unnecessary features\n",
    "    data.drop(['fighter', 'opponent',\n",
    "               'referee', 'event', 'link', 'location',\n",
    "               'method'], axis=1, inplace=True)\n",
    "    \n",
    "    # Split the data\n",
    "    train, test = train_test_split(data)\n",
    "\n",
    "    ytrain = train['result']\n",
    "    ytrain = ytrain.map({'Win': 1, 'Loss': 0})\n",
    "    xtrain = train.drop(['result', 'set', 'date'], axis=1)\n",
    "    xtrain.fillna(0, inplace=True)\n",
    "    \n",
    "    ytest = test['result']\n",
    "    ytest = ytest.map({'Win': 1, 'Loss': 0})\n",
    "    xtest = test.drop(['result', 'set', 'date'], axis=1)\n",
    "    xtest.fillna(0, inplace=True)\n",
    "    \n",
    "    # Scale data\n",
    "    scaler = StandardScaler()\n",
    "    scaler.fit(xtrain)\n",
    "    xtrain = pd.DataFrame(scaler.transform(xtrain), columns=xtrain.columns)\n",
    "    xtest = pd.DataFrame(scaler.transform(xtest), columns=xtest.columns)\n",
    "    \n",
    "    return xtrain, xtest, ytrain, ytest"
   ]
  },
  {
   "cell_type": "code",
   "execution_count": 18,
   "metadata": {
    "collapsed": false,
    "deletable": true,
    "editable": true
   },
   "outputs": [],
   "source": [
    "# Get the data\n",
    "xtrain_flat, xtest_flat, ytrain_flat, ytest_flat = get_flat_data(data)"
   ]
  },
  {
   "cell_type": "code",
   "execution_count": 19,
   "metadata": {
    "collapsed": false,
    "deletable": true,
    "editable": true
   },
   "outputs": [],
   "source": [
    "# Train the model\n",
    "input_dim = xtrain_flat.shape[1]\n",
    "model_flat = Sequential()\n",
    "model_flat.add(Dense(8, input_dim=input_dim, activation='relu'))\n",
    "model_flat.add(Dropout(0.5))\n",
    "model_flat.add(Dense(4, activation='relu'))\n",
    "model_flat.add(Dense(1, activation='sigmoid'))\n",
    "model_flat.compile(loss='binary_crossentropy', optimizer='nadam', metrics=['accuracy'])"
   ]
  },
  {
   "cell_type": "code",
   "execution_count": 20,
   "metadata": {
    "collapsed": false,
    "deletable": true,
    "editable": true
   },
   "outputs": [],
   "source": [
    "# Training the network\n",
    "batch_size = 512\n",
    "verbosity = 0 # 1 to see the output at each epoch\n",
    "hist_flat = model_flat.fit(xtrain_flat.values, ytrain_flat, epochs=50,\n",
    "                           batch_size=batch_size, validation_split=0.2, verbose=verbosity)"
   ]
  },
  {
   "cell_type": "code",
   "execution_count": 21,
   "metadata": {
    "collapsed": false,
    "deletable": true,
    "editable": true
   },
   "outputs": [
    {
     "name": "stdout",
     "output_type": "stream",
     "text": [
      " 512/2554 [=====>........................] - ETA: 0s\n",
      "Neural Network testing 57.13%\n"
     ]
    }
   ],
   "source": [
    "scores_flat = model_flat.evaluate(xtest_flat.values, ytest_flat, batch_size=batch_size)\n",
    "print('\\nNeural Network testing {:.2f}%'.format(scores_flat[1]*100))"
   ]
  },
  {
   "cell_type": "code",
   "execution_count": 22,
   "metadata": {
    "collapsed": false,
    "deletable": true,
    "editable": true
   },
   "outputs": [
    {
     "data": {
      "image/png": "[encoded data removed]",
      "text/plain": [
       "<matplotlib.figure.Figure at 0x7f946a891160>"
      ]
     },
     "metadata": {},
     "output_type": "display_data"
    }
   ],
   "source": [
    "plt.plot(hist_flat.history['loss'])\n",
    "plt.plot(hist_flat.history['val_loss'])\n",
    "plt.ylabel('Loss')\n",
    "plt.xlabel('Epoch')\n",
    "plt.legend(['Training', 'Validation'], loc='upper right')\n",
    "plt.show()"
   ]
  },
  {
   "cell_type": "code",
   "execution_count": null,
   "metadata": {
    "collapsed": true
   },
   "outputs": [],
   "source": []
  }
 ],
 "metadata": {
  "kernelspec": {
   "display_name": "Python 3",
   "language": "python",
   "name": "python3"
  },
  "language_info": {
   "codemirror_mode": {
    "name": "ipython",
    "version": 3
   },
   "file_extension": ".py",
   "mimetype": "text/x-python",
   "name": "python",
   "nbconvert_exporter": "python",
   "pygments_lexer": "ipython3",
   "version": "3.5.2"
  },
  "widgets": {
   "state": {},
   "version": "1.1.2"
  }
 },
 "nbformat": 4,
 "nbformat_minor": 2
}
