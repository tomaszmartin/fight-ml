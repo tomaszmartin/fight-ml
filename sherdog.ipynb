{
 "cells": [
  {
   "cell_type": "code",
   "execution_count": 1,
   "metadata": {
    "collapsed": true
   },
   "outputs": [],
   "source": [
    "import pandas as pd"
   ]
  },
  {
   "cell_type": "code",
   "execution_count": 2,
   "metadata": {},
   "outputs": [
    {
     "data": {
      "text/html": [
       "<div>\n",
       "<style>\n",
       "    .dataframe thead tr:only-child th {\n",
       "        text-align: right;\n",
       "    }\n",
       "\n",
       "    .dataframe thead th {\n",
       "        text-align: left;\n",
       "    }\n",
       "\n",
       "    .dataframe tbody tr th {\n",
       "        vertical-align: top;\n",
       "    }\n",
       "</style>\n",
       "<table border=\"1\" class=\"dataframe\">\n",
       "  <thead>\n",
       "    <tr style=\"text-align: right;\">\n",
       "      <th></th>\n",
       "      <th>date</th>\n",
       "      <th>details</th>\n",
       "      <th>fighter</th>\n",
       "      <th>fighterid</th>\n",
       "      <th>id</th>\n",
       "      <th>location</th>\n",
       "      <th>method</th>\n",
       "      <th>opponent</th>\n",
       "      <th>result</th>\n",
       "    </tr>\n",
       "  </thead>\n",
       "  <tbody>\n",
       "    <tr>\n",
       "      <th>0</th>\n",
       "      <td>2017-04-22</td>\n",
       "      <td>guillotine choke</td>\n",
       "      <td>{'started': 1370044800000, 'birth': 6522336000...</td>\n",
       "      <td>/fighter/Abusupiyan-Magomedov-60755</td>\n",
       "      <td>/fighter/Abusupiyan-Magomedov-60755/fighter/Se...</td>\n",
       "      <td>Tivoli Hall / Ljubljana / Slovenia</td>\n",
       "      <td>submission</td>\n",
       "      <td>{'started': 1272672000000, 'birth': 4923936000...</td>\n",
       "      <td>win</td>\n",
       "    </tr>\n",
       "    <tr>\n",
       "      <th>1</th>\n",
       "      <td>2017-04-22</td>\n",
       "      <td>guillotine choke</td>\n",
       "      <td>{'started': 1272672000000, 'birth': 4923936000...</td>\n",
       "      <td>/fighter/Sergio-Souza-47632</td>\n",
       "      <td>/fighter/Abusupiyan-Magomedov-60755/fighter/Se...</td>\n",
       "      <td>Tivoli Hall / Ljubljana / Slovenia</td>\n",
       "      <td>submission</td>\n",
       "      <td>{'started': 1370044800000, 'birth': 6522336000...</td>\n",
       "      <td>loss</td>\n",
       "    </tr>\n",
       "    <tr>\n",
       "      <th>10</th>\n",
       "      <td>2010-10-22</td>\n",
       "      <td>punches</td>\n",
       "      <td>{'started': 1336176000000, 'birth': 2698272000...</td>\n",
       "      <td>/fighter/Vaughn-Anderson-14732</td>\n",
       "      <td>/fighter/Vaughn-Anderson-14732/fighter/Bhupesh...</td>\n",
       "      <td>Hall 5 / Abu Dhabi / United Arab Emirates / Un...</td>\n",
       "      <td>submission</td>\n",
       "      <td>{'started': 1162512000000, 'birth': 4218048000...</td>\n",
       "      <td>win</td>\n",
       "    </tr>\n",
       "    <tr>\n",
       "      <th>100</th>\n",
       "      <td>2011-09-30</td>\n",
       "      <td>unanimous</td>\n",
       "      <td>{'started': 1301702400000, 'birth': 7317216000...</td>\n",
       "      <td>/fighter/Clay-Collard-78465</td>\n",
       "      <td>/fighter/David-Castillo-35624/fighter/Clay-Col...</td>\n",
       "      <td>4425 North Thanksgiving Way / Lehi / Utah / Un...</td>\n",
       "      <td>decision</td>\n",
       "      <td>{'started': 1241136000000, 'birth': 3911328000...</td>\n",
       "      <td>loss</td>\n",
       "    </tr>\n",
       "    <tr>\n",
       "      <th>1000</th>\n",
       "      <td>2016-05-22</td>\n",
       "      <td>majority</td>\n",
       "      <td>{'started': 1175385600000, 'birth': 5721408000...</td>\n",
       "      <td>/fighter/Fabiano-Silva-da-Conceicao-21926</td>\n",
       "      <td>/fighter/Salaman-Zhamaldaev-103721/fighter/Fab...</td>\n",
       "      <td>Sports Hall Coliseum / Grozny / Russia</td>\n",
       "      <td>decision</td>\n",
       "      <td>{'started': 1393718400000, 'birth': 6036768000...</td>\n",
       "      <td>loss</td>\n",
       "    </tr>\n",
       "  </tbody>\n",
       "</table>\n",
       "</div>"
      ],
      "text/plain": [
       "           date           details  \\\n",
       "0    2017-04-22  guillotine choke   \n",
       "1    2017-04-22  guillotine choke   \n",
       "10   2010-10-22           punches   \n",
       "100  2011-09-30         unanimous   \n",
       "1000 2016-05-22          majority   \n",
       "\n",
       "                                                fighter  \\\n",
       "0     {'started': 1370044800000, 'birth': 6522336000...   \n",
       "1     {'started': 1272672000000, 'birth': 4923936000...   \n",
       "10    {'started': 1336176000000, 'birth': 2698272000...   \n",
       "100   {'started': 1301702400000, 'birth': 7317216000...   \n",
       "1000  {'started': 1175385600000, 'birth': 5721408000...   \n",
       "\n",
       "                                      fighterid  \\\n",
       "0           /fighter/Abusupiyan-Magomedov-60755   \n",
       "1                   /fighter/Sergio-Souza-47632   \n",
       "10               /fighter/Vaughn-Anderson-14732   \n",
       "100                 /fighter/Clay-Collard-78465   \n",
       "1000  /fighter/Fabiano-Silva-da-Conceicao-21926   \n",
       "\n",
       "                                                     id  \\\n",
       "0     /fighter/Abusupiyan-Magomedov-60755/fighter/Se...   \n",
       "1     /fighter/Abusupiyan-Magomedov-60755/fighter/Se...   \n",
       "10    /fighter/Vaughn-Anderson-14732/fighter/Bhupesh...   \n",
       "100   /fighter/David-Castillo-35624/fighter/Clay-Col...   \n",
       "1000  /fighter/Salaman-Zhamaldaev-103721/fighter/Fab...   \n",
       "\n",
       "                                               location      method  \\\n",
       "0                    Tivoli Hall / Ljubljana / Slovenia  submission   \n",
       "1                    Tivoli Hall / Ljubljana / Slovenia  submission   \n",
       "10    Hall 5 / Abu Dhabi / United Arab Emirates / Un...  submission   \n",
       "100   4425 North Thanksgiving Way / Lehi / Utah / Un...    decision   \n",
       "1000             Sports Hall Coliseum / Grozny / Russia    decision   \n",
       "\n",
       "                                               opponent result  \n",
       "0     {'started': 1272672000000, 'birth': 4923936000...    win  \n",
       "1     {'started': 1370044800000, 'birth': 6522336000...   loss  \n",
       "10    {'started': 1162512000000, 'birth': 4218048000...    win  \n",
       "100   {'started': 1241136000000, 'birth': 3911328000...   loss  \n",
       "1000  {'started': 1393718400000, 'birth': 6036768000...   loss  "
      ]
     },
     "execution_count": 2,
     "metadata": {},
     "output_type": "execute_result"
    }
   ],
   "source": [
    "data = pd.read_json('sherdog/data/cumulative.json')\n",
    "data.head()"
   ]
  },
  {
   "cell_type": "code",
   "execution_count": 5,
   "metadata": {},
   "outputs": [
    {
     "data": {
      "text/plain": [
       "date                                       2017-04-22 00:00:00\n",
       "details                                       guillotine choke\n",
       "fighter      {'started': 1370044800000, 'birth': 6522336000...\n",
       "fighterid                  /fighter/Abusupiyan-Magomedov-60755\n",
       "id           /fighter/Abusupiyan-Magomedov-60755/fighter/Se...\n",
       "location                    Tivoli Hall / Ljubljana / Slovenia\n",
       "method                                              submission\n",
       "opponent     {'started': 1272672000000, 'birth': 4923936000...\n",
       "result                                                     win\n",
       "Name: 0, dtype: object"
      ]
     },
     "execution_count": 5,
     "metadata": {},
     "output_type": "execute_result"
    }
   ],
   "source": [
    "data.iloc[0]"
   ]
  },
  {
   "cell_type": "code",
   "execution_count": null,
   "metadata": {
    "collapsed": true
   },
   "outputs": [],
   "source": []
  }
 ],
 "metadata": {
  "kernelspec": {
   "display_name": "Python 3",
   "language": "python",
   "name": "python3"
  },
  "language_info": {
   "codemirror_mode": {
    "name": "ipython",
    "version": 3
   },
   "file_extension": ".py",
   "mimetype": "text/x-python",
   "name": "python",
   "nbconvert_exporter": "python",
   "pygments_lexer": "ipython3",
   "version": "3.6.1"
  }
 },
 "nbformat": 4,
 "nbformat_minor": 2
}
