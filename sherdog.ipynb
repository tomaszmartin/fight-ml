{
 "cells": [
  {
   "cell_type": "code",
   "execution_count": 1,
   "metadata": {},
   "outputs": [
    {
     "name": "stderr",
     "output_type": "stream",
     "text": [
      "Using TensorFlow backend.\n"
     ]
    }
   ],
   "source": [
    "import pandas as pd\n",
    "from datetime import datetime\n",
    "from keras.models import Sequential\n",
    "from keras.layers import Dense\n",
    "from sklearn.model_selection import train_test_split"
   ]
  },
  {
   "cell_type": "code",
   "execution_count": 2,
   "metadata": {},
   "outputs": [],
   "source": [
    "data = pd.read_json('sherdog/data/cumulative2.json')"
   ]
  },
  {
   "cell_type": "code",
   "execution_count": 4,
   "metadata": {},
   "outputs": [
    {
     "data": {
      "text/plain": [
       "{'association': None,\n",
       " 'birth': None,\n",
       " 'cumulative': {'loss': {'loss': {'decision': 0.0,\n",
       "    'knockout': 0.0,\n",
       "    'submission': 0.0,\n",
       "    'total': 0.0},\n",
       "   'win': {'decision': 0.0, 'knockout': 0.0, 'submission': 0.0, 'total': 0.0}},\n",
       "  'win': {'loss': {'decision': 0.0,\n",
       "    'knockout': 0.0,\n",
       "    'submission': 0.0,\n",
       "    'total': 0.0},\n",
       "   'win': {'decision': 0.0,\n",
       "    'knockout': 0.0,\n",
       "    'submission': 0.0,\n",
       "    'total': 0.0}}},\n",
       " 'history': {'fights': 0.0,\n",
       "  'loss': {'decision': 0.0, 'knockout': 0.0, 'submission': 0.0, 'total': 0.0},\n",
       "  'positions': 0.0,\n",
       "  'time': 0.0,\n",
       "  'win': {'decision': 0.0, 'knockout': 0.0, 'submission': 0.0, 'total': 0.0}},\n",
       " 'id': '/fighter/Chris-Write-5647',\n",
       " 'nationality': None,\n",
       " 'since_last_fight': 0,\n",
       " 'started': 1009584000000,\n",
       " 'streak': {'loss': 0.0, 'win': 0.0}}"
      ]
     },
     "execution_count": 4,
     "metadata": {},
     "output_type": "execute_result"
    }
   ],
   "source": [
    "data.iloc[0]['fighter']"
   ]
  },
  {
   "cell_type": "code",
   "execution_count": 18,
   "metadata": {},
   "outputs": [],
   "source": [
    "def parse_date(timeinmilis):\n",
    "    try:\n",
    "        timestamp = timeinmilis / 1000\n",
    "        return datetime.utcfromtimestamp(timestamp)\n",
    "    except:\n",
    "        return None\n",
    "\n",
    "    \n",
    "def flatten(data):\n",
    "    X = pd.DataFrame()\n",
    "    X['target'] = data['result'].map({'win': 1, 'loss': 0})\n",
    "    for fighter in ['fighter', 'opponent']:\n",
    "        for key in ['started']:\n",
    "            curr = '{}_{}'.format(fighter, key)\n",
    "            first_fight_date = data[fighter].apply(lambda x: parse_date(x[key]))\n",
    "            event_date = data['date']\n",
    "            X[curr] = (event_date - first_fight_date)\n",
    "            X[curr] = X[curr].apply(lambda x: x.days)\n",
    "            \n",
    "            \n",
    "        for key in ['since_last_fight']:\n",
    "            curr = '{}_{}'.format(fighter, key)\n",
    "            X[curr] = data[fighter].apply(lambda x: x[key])\n",
    "\n",
    "        # Cumulative stats\n",
    "        stats = 'cumulative'\n",
    "        for key in ['loss', 'win']:\n",
    "            for result in ['loss', 'win']:\n",
    "                for method in ['decision', 'knockout', 'submission', 'total']:\n",
    "                    curr = '{}_{}_{}_{}_{}'.format(fighter, stats, key, result, method)\n",
    "                    X[curr] = data[fighter].apply(lambda x: x[stats][key][result][method])\n",
    "                    X[curr] = X[curr].apply(lambda x: float(x))\n",
    "\n",
    "        # Historical stats\n",
    "        stats = 'history'\n",
    "        for result in ['loss', 'win']:\n",
    "            for method in ['decision', 'knockout', 'submission', 'total']:\n",
    "                curr = '{}_{}_{}_{}'.format(fighter, stats, result, method)\n",
    "                X[curr] = data[fighter].apply(lambda x: x[stats][result][method])\n",
    "                X[curr] = X[curr].apply(lambda x: float(x))\n",
    "        \n",
    "        # Streak\n",
    "        stats = 'streak'\n",
    "        for result in ['loss', 'win']:\n",
    "            curr = '{}_{}_{}'.format(fighter, stats, result)\n",
    "            X[curr] = data[fighter].apply(lambda x: x[stats][result])\n",
    "            X[curr] = X[curr].apply(lambda x: float(x))\n",
    "        \n",
    "        stats = 'history'\n",
    "        for key in ['fights', 'positions', 'time']:\n",
    "            curr = '{}_{}_{}'.format(fighter, stats, key)\n",
    "            X[curr] = data[fighter].apply(lambda x: x[stats][key])\n",
    "            X[curr] = X[curr].apply(lambda x: float(x))\n",
    "    \n",
    "    return X\n",
    "\n",
    "\n",
    "def get_data(data):\n",
    "    x = flatten(data)\n",
    "    y = x['target']\n",
    "    x.drop(['target'], axis=1, inplace=True)\n",
    "    x.fillna(0, inplace=True)\n",
    "    return train_test_split(x, y)"
   ]
  },
  {
   "cell_type": "code",
   "execution_count": 19,
   "metadata": {},
   "outputs": [],
   "source": [
    "X_train, X_test, y_train, y_test = get_data(data)"
   ]
  },
  {
   "cell_type": "code",
   "execution_count": 42,
   "metadata": {},
   "outputs": [
    {
     "data": {
      "text/plain": [
       "fighter_started                             107.0\n",
       "fighter_since_last_fight                      0.0\n",
       "fighter_cumulative_loss_loss_decision         0.0\n",
       "fighter_cumulative_loss_loss_knockout         0.0\n",
       "fighter_cumulative_loss_loss_submission       0.0\n",
       "fighter_cumulative_loss_loss_total            0.0\n",
       "fighter_cumulative_loss_win_decision          0.0\n",
       "fighter_cumulative_loss_win_knockout          0.0\n",
       "fighter_cumulative_loss_win_submission        0.0\n",
       "fighter_cumulative_loss_win_total             0.0\n",
       "fighter_cumulative_win_loss_decision          0.0\n",
       "fighter_cumulative_win_loss_knockout          0.0\n",
       "fighter_cumulative_win_loss_submission        0.0\n",
       "fighter_cumulative_win_loss_total             0.0\n",
       "fighter_cumulative_win_win_decision           0.0\n",
       "fighter_cumulative_win_win_knockout           0.0\n",
       "fighter_cumulative_win_win_submission         0.0\n",
       "fighter_cumulative_win_win_total              0.0\n",
       "fighter_history_loss_decision                 0.0\n",
       "fighter_history_loss_knockout                 1.0\n",
       "fighter_history_loss_submission               1.0\n",
       "fighter_history_loss_total                    2.0\n",
       "fighter_history_win_decision                  0.0\n",
       "fighter_history_win_knockout                  0.0\n",
       "fighter_history_win_submission                0.0\n",
       "fighter_history_win_total                     0.0\n",
       "fighter_streak_loss                           2.0\n",
       "fighter_streak_win                            0.0\n",
       "fighter_history_fights                        2.0\n",
       "fighter_history_positions                     3.0\n",
       "                                            ...  \n",
       "opponent_since_last_fight                     0.0\n",
       "opponent_cumulative_loss_loss_decision       11.0\n",
       "opponent_cumulative_loss_loss_knockout        0.0\n",
       "opponent_cumulative_loss_loss_submission      4.0\n",
       "opponent_cumulative_loss_loss_total          15.0\n",
       "opponent_cumulative_loss_win_decision         0.0\n",
       "opponent_cumulative_loss_win_knockout         5.0\n",
       "opponent_cumulative_loss_win_submission       7.0\n",
       "opponent_cumulative_loss_win_total           12.0\n",
       "opponent_cumulative_win_loss_decision        38.0\n",
       "opponent_cumulative_win_loss_knockout         0.0\n",
       "opponent_cumulative_win_loss_submission      12.0\n",
       "opponent_cumulative_win_loss_total           50.0\n",
       "opponent_cumulative_win_win_decision          7.0\n",
       "opponent_cumulative_win_win_knockout         19.0\n",
       "opponent_cumulative_win_win_submission       20.0\n",
       "opponent_cumulative_win_win_total            46.0\n",
       "opponent_history_loss_decision                8.0\n",
       "opponent_history_loss_knockout                0.0\n",
       "opponent_history_loss_submission              2.0\n",
       "opponent_history_loss_total                  10.0\n",
       "opponent_history_win_decision                 2.0\n",
       "opponent_history_win_knockout                 3.0\n",
       "opponent_history_win_submission               4.0\n",
       "opponent_history_win_total                    9.0\n",
       "opponent_streak_loss                          0.0\n",
       "opponent_streak_win                           2.0\n",
       "opponent_history_fights                      19.0\n",
       "opponent_history_positions                   51.0\n",
       "opponent_history_time                        50.5\n",
       "Name: 32119, Length: 62, dtype: float64"
      ]
     },
     "execution_count": 42,
     "metadata": {},
     "output_type": "execute_result"
    }
   ],
   "source": [
    "X_test.iloc[50]"
   ]
  },
  {
   "cell_type": "code",
   "execution_count": 21,
   "metadata": {},
   "outputs": [
    {
     "data": {
      "text/plain": [
       "['fighter_started',\n",
       " 'fighter_since_last_fight',\n",
       " 'fighter_cumulative_loss_loss_decision',\n",
       " 'fighter_cumulative_loss_loss_knockout',\n",
       " 'fighter_cumulative_loss_loss_submission',\n",
       " 'fighter_cumulative_loss_loss_total',\n",
       " 'fighter_cumulative_loss_win_decision',\n",
       " 'fighter_cumulative_loss_win_knockout',\n",
       " 'fighter_cumulative_loss_win_submission',\n",
       " 'fighter_cumulative_loss_win_total',\n",
       " 'fighter_cumulative_win_loss_decision',\n",
       " 'fighter_cumulative_win_loss_knockout',\n",
       " 'fighter_cumulative_win_loss_submission',\n",
       " 'fighter_cumulative_win_loss_total',\n",
       " 'fighter_cumulative_win_win_decision',\n",
       " 'fighter_cumulative_win_win_knockout',\n",
       " 'fighter_cumulative_win_win_submission',\n",
       " 'fighter_cumulative_win_win_total',\n",
       " 'fighter_history_loss_decision',\n",
       " 'fighter_history_loss_knockout',\n",
       " 'fighter_history_loss_submission',\n",
       " 'fighter_history_loss_total',\n",
       " 'fighter_history_win_decision',\n",
       " 'fighter_history_win_knockout',\n",
       " 'fighter_history_win_submission',\n",
       " 'fighter_history_win_total',\n",
       " 'fighter_streak_loss',\n",
       " 'fighter_streak_win',\n",
       " 'fighter_history_fights',\n",
       " 'fighter_history_positions',\n",
       " 'fighter_history_time',\n",
       " 'opponent_started',\n",
       " 'opponent_since_last_fight',\n",
       " 'opponent_cumulative_loss_loss_decision',\n",
       " 'opponent_cumulative_loss_loss_knockout',\n",
       " 'opponent_cumulative_loss_loss_submission',\n",
       " 'opponent_cumulative_loss_loss_total',\n",
       " 'opponent_cumulative_loss_win_decision',\n",
       " 'opponent_cumulative_loss_win_knockout',\n",
       " 'opponent_cumulative_loss_win_submission',\n",
       " 'opponent_cumulative_loss_win_total',\n",
       " 'opponent_cumulative_win_loss_decision',\n",
       " 'opponent_cumulative_win_loss_knockout',\n",
       " 'opponent_cumulative_win_loss_submission',\n",
       " 'opponent_cumulative_win_loss_total',\n",
       " 'opponent_cumulative_win_win_decision',\n",
       " 'opponent_cumulative_win_win_knockout',\n",
       " 'opponent_cumulative_win_win_submission',\n",
       " 'opponent_cumulative_win_win_total',\n",
       " 'opponent_history_loss_decision',\n",
       " 'opponent_history_loss_knockout',\n",
       " 'opponent_history_loss_submission',\n",
       " 'opponent_history_loss_total',\n",
       " 'opponent_history_win_decision',\n",
       " 'opponent_history_win_knockout',\n",
       " 'opponent_history_win_submission',\n",
       " 'opponent_history_win_total',\n",
       " 'opponent_streak_loss',\n",
       " 'opponent_streak_win',\n",
       " 'opponent_history_fights',\n",
       " 'opponent_history_positions',\n",
       " 'opponent_history_time']"
      ]
     },
     "execution_count": 21,
     "metadata": {},
     "output_type": "execute_result"
    }
   ],
   "source": [
    "list(X_train.columns)"
   ]
  },
  {
   "cell_type": "code",
   "execution_count": 46,
   "metadata": {},
   "outputs": [],
   "source": [
    "input_dim = X_train.shape[1]\n",
    "model = Sequential()\n",
    "model.add(Dense(512, input_dim=input_dim, activation='relu'))\n",
    "model.add(Dense(256, activation='relu'))\n",
    "model.add(Dense(128, activation='relu'))\n",
    "model.add(Dense(1, activation='sigmoid'))"
   ]
  },
  {
   "cell_type": "code",
   "execution_count": 47,
   "metadata": {
    "collapsed": true
   },
   "outputs": [],
   "source": [
    "model.compile(loss='binary_crossentropy', optimizer='adam', metrics=['accuracy'])"
   ]
  },
  {
   "cell_type": "code",
   "execution_count": 60,
   "metadata": {},
   "outputs": [
    {
     "name": "stdout",
     "output_type": "stream",
     "text": [
      "Epoch 1/50\n",
      "321460/321460 [==============================] - 9s - loss: 0.4055 - acc: 0.7922     \n",
      "Epoch 2/50\n",
      "321460/321460 [==============================] - 9s - loss: 0.3971 - acc: 0.7956     \n",
      "Epoch 3/50\n",
      "321460/321460 [==============================] - 11s - loss: 0.3979 - acc: 0.7953    \n",
      "Epoch 4/50\n",
      "321460/321460 [==============================] - 12s - loss: 0.4012 - acc: 0.7946    \n",
      "Epoch 5/50\n",
      "321460/321460 [==============================] - 12s - loss: 0.3963 - acc: 0.7966    \n",
      "Epoch 6/50\n",
      "321460/321460 [==============================] - 12s - loss: 0.3942 - acc: 0.7972    \n",
      "Epoch 7/50\n",
      "321460/321460 [==============================] - 10s - loss: 0.3966 - acc: 0.7960    \n",
      "Epoch 8/50\n",
      "321460/321460 [==============================] - 11s - loss: 0.3946 - acc: 0.7966    \n",
      "Epoch 9/50\n",
      "321460/321460 [==============================] - 12s - loss: 0.3922 - acc: 0.7978    \n",
      "Epoch 10/50\n",
      "321460/321460 [==============================] - 12s - loss: 0.3877 - acc: 0.7998    \n",
      "Epoch 11/50\n",
      "321460/321460 [==============================] - 11s - loss: 0.3890 - acc: 0.8004    \n",
      "Epoch 12/50\n",
      "321460/321460 [==============================] - 12s - loss: 0.3930 - acc: 0.7981    \n",
      "Epoch 13/50\n",
      "321460/321460 [==============================] - 11s - loss: 0.3882 - acc: 0.8003    \n",
      "Epoch 14/50\n",
      "321460/321460 [==============================] - 13s - loss: 0.3878 - acc: 0.7998    \n",
      "Epoch 15/50\n",
      "321460/321460 [==============================] - 13s - loss: 0.3879 - acc: 0.8000    \n",
      "Epoch 16/50\n",
      "321460/321460 [==============================] - 12s - loss: 0.3868 - acc: 0.8003    \n",
      "Epoch 17/50\n",
      "321460/321460 [==============================] - 11s - loss: 0.3855 - acc: 0.8017    \n",
      "Epoch 18/50\n",
      "321460/321460 [==============================] - 13s - loss: 0.3857 - acc: 0.8016    \n",
      "Epoch 19/50\n",
      "321460/321460 [==============================] - 13s - loss: 0.3883 - acc: 0.8008    \n",
      "Epoch 20/50\n",
      "321460/321460 [==============================] - 12s - loss: 0.3839 - acc: 0.8016    \n",
      "Epoch 21/50\n",
      "321460/321460 [==============================] - 13s - loss: 0.3828 - acc: 0.8020    \n",
      "Epoch 22/50\n",
      "321460/321460 [==============================] - 14s - loss: 0.3817 - acc: 0.8034    \n",
      "Epoch 23/50\n",
      "321460/321460 [==============================] - 13s - loss: 0.3819 - acc: 0.8034    \n",
      "Epoch 24/50\n",
      "321460/321460 [==============================] - 12s - loss: 0.3890 - acc: 0.7995    \n",
      "Epoch 25/50\n",
      "321460/321460 [==============================] - 13s - loss: 0.3836 - acc: 0.8020    \n",
      "Epoch 26/50\n",
      "321460/321460 [==============================] - 13s - loss: 0.3849 - acc: 0.8009    \n",
      "Epoch 27/50\n",
      "321460/321460 [==============================] - 13s - loss: 0.3832 - acc: 0.8026    \n",
      "Epoch 28/50\n",
      "321460/321460 [==============================] - 13s - loss: 0.3814 - acc: 0.8029    \n",
      "Epoch 29/50\n",
      "321460/321460 [==============================] - 13s - loss: 0.3914 - acc: 0.7988    \n",
      "Epoch 30/50\n",
      "321460/321460 [==============================] - 13s - loss: 0.3881 - acc: 0.8002    \n",
      "Epoch 31/50\n",
      "321460/321460 [==============================] - 14s - loss: 0.3837 - acc: 0.8022    \n",
      "Epoch 32/50\n",
      "321460/321460 [==============================] - 12s - loss: 0.3818 - acc: 0.8037    \n",
      "Epoch 33/50\n",
      "321460/321460 [==============================] - 11s - loss: 0.3840 - acc: 0.8030    \n",
      "Epoch 34/50\n",
      "321460/321460 [==============================] - 14s - loss: 0.3807 - acc: 0.8036    \n",
      "Epoch 35/50\n",
      "321460/321460 [==============================] - 12s - loss: 0.3780 - acc: 0.8059    \n",
      "Epoch 36/50\n",
      "321460/321460 [==============================] - 15s - loss: 0.3779 - acc: 0.8053    \n",
      "Epoch 37/50\n",
      "321460/321460 [==============================] - 14s - loss: 0.3806 - acc: 0.8035    \n",
      "Epoch 38/50\n",
      "321460/321460 [==============================] - 13s - loss: 0.3787 - acc: 0.8051    \n",
      "Epoch 39/50\n",
      "321460/321460 [==============================] - 13s - loss: 0.3751 - acc: 0.8070    \n",
      "Epoch 40/50\n",
      "321460/321460 [==============================] - 13s - loss: 0.3795 - acc: 0.8042    \n",
      "Epoch 41/50\n",
      "321460/321460 [==============================] - 13s - loss: 0.3782 - acc: 0.8046    \n",
      "Epoch 42/50\n",
      "321460/321460 [==============================] - 13s - loss: 0.3756 - acc: 0.8062    \n",
      "Epoch 43/50\n",
      "321460/321460 [==============================] - 13s - loss: 0.3722 - acc: 0.8077    \n",
      "Epoch 44/50\n",
      "321460/321460 [==============================] - 13s - loss: 0.3714 - acc: 0.8085    \n",
      "Epoch 45/50\n",
      "321460/321460 [==============================] - 13s - loss: 0.3719 - acc: 0.8084    \n",
      "Epoch 46/50\n",
      "321460/321460 [==============================] - 14s - loss: 0.3732 - acc: 0.8079    \n",
      "Epoch 47/50\n",
      "321460/321460 [==============================] - 13s - loss: 0.3801 - acc: 0.8044    \n",
      "Epoch 48/50\n",
      "321460/321460 [==============================] - 15s - loss: 0.3729 - acc: 0.8076    \n",
      "Epoch 49/50\n",
      "321460/321460 [==============================] - 15s - loss: 0.3715 - acc: 0.8075    \n",
      "Epoch 50/50\n",
      "321460/321460 [==============================] - 15s - loss: 0.3702 - acc: 0.8086    \n"
     ]
    },
    {
     "data": {
      "text/plain": [
       "<keras.callbacks.History at 0x3ab642160>"
      ]
     },
     "execution_count": 60,
     "metadata": {},
     "output_type": "execute_result"
    }
   ],
   "source": [
    "model.fit(X_train.values, y_train, epochs=50, batch_size=8056)"
   ]
  },
  {
   "cell_type": "code",
   "execution_count": 61,
   "metadata": {},
   "outputs": [
    {
     "name": "stdout",
     "output_type": "stream",
     "text": [
      "106464/107154 [============================>.] - ETA: 0s\n",
      "acc: 77.59%\n"
     ]
    }
   ],
   "source": [
    "scores = model.evaluate(X_test.values, y_test)\n",
    "print(\"\\n%s: %.2f%%\" % (model.metrics_names[1], scores[1]*100))"
   ]
  },
  {
   "cell_type": "code",
   "execution_count": null,
   "metadata": {
    "collapsed": true
   },
   "outputs": [],
   "source": []
  }
 ],
 "metadata": {
  "anaconda-cloud": {},
  "kernelspec": {
   "display_name": "Python 3",
   "language": "python",
   "name": "python3"
  },
  "language_info": {
   "codemirror_mode": {
    "name": "ipython",
    "version": 3
   },
   "file_extension": ".py",
   "mimetype": "text/x-python",
   "name": "python",
   "nbconvert_exporter": "python",
   "pygments_lexer": "ipython3",
   "version": "3.6.1"
  },
  "widgets": {
   "state": {},
   "version": "1.1.2"
  }
 },
 "nbformat": 4,
 "nbformat_minor": 2
}
