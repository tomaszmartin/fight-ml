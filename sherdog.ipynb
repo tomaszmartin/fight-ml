{
 "cells": [
  {
   "cell_type": "markdown",
   "metadata": {},
   "source": [
    "# Importing data"
   ]
  },
  {
   "cell_type": "code",
   "execution_count": 1,
   "metadata": {},
   "outputs": [
    {
     "name": "stderr",
     "output_type": "stream",
     "text": [
      "Using TensorFlow backend.\n"
     ]
    }
   ],
   "source": [
    "import pandas as pd\n",
    "from datetime import datetime, date\n",
    "from keras.models import Sequential\n",
    "from keras.layers import Dense, Dropout\n",
    "from keras.utils import to_categorical\n",
    "from sklearn.model_selection import train_test_split\n",
    "from sklearn.linear_model import LogisticRegression\n",
    "from sklearn.svm import SVC\n",
    "from sklearn.metrics import accuracy_score\n",
    "from sklearn.ensemble import RandomForestClassifier\n",
    "from sklearn.preprocessing import Imputer, StandardScaler   \n",
    "import warnings\n",
    "import matplotlib.pyplot as plt\n",
    "import numpy as np\n",
    "warnings.filterwarnings('ignore')\n",
    "plt.style.use('seaborn-whitegrid')\n",
    "plt.style.use('seaborn-muted')"
   ]
  },
  {
   "cell_type": "code",
   "execution_count": 2,
   "metadata": {},
   "outputs": [],
   "source": [
    "data = pd.read_json('sherdog/data/final.json')"
   ]
  },
  {
   "cell_type": "markdown",
   "metadata": {},
   "source": [
    "# Data preparation"
   ]
  },
  {
   "cell_type": "code",
   "execution_count": 3,
   "metadata": {},
   "outputs": [],
   "source": [
    "def get_method(x):\n",
    "    \"\"\"Helper function for \"\"\"\n",
    "    if x:\n",
    "        x = x.strip()\n",
    "    else:\n",
    "        x = ''\n",
    "    methodsmap = {'': 'decision', '(draw)': 'decision', '(forfeit)': 'ko',\n",
    "                  '(head kick and punches)': 'ko', '(illegal slam)': 'ko',\n",
    "                  '(no contest)': 'decision', '83185': 'decision', '_____È': 'decision',\n",
    "                  'armbar': 'submission', 'brabo choke': 'submission', \n",
    "                  'bulldog choke': 'submission', 'choke': 'submission', 'decision': 'decision', \n",
    "                  'decision unanimous)': 'decision', 'decisionn': 'decision', \n",
    "                  'decisions': 'decision', 'decison': 'decision', 'default': 'decision',\n",
    "                  'disqualification': 'decision', 'dq': 'decision', 'draw': 'decision',\n",
    "                  'ee stoppage from a cut)': 'ko','forfeit': 'ko','igor lumpov': 'submission',\n",
    "                  'isaac yap': 'submission','k)': 'ko','knockout': 'ko','ko': 'ko','ko/tko': 'ko',\n",
    "                  'ko/tko punches': 'ko','ko/tko, ground and pound': 'ko',\n",
    "                  'majority draw': 'decision','mata leon': 'submission','method': 'decision',\n",
    "                  'n/a': 'decision','nc': 'decision','no contest': 'decision',\n",
    "                  'no contrst': 'decision','points': 'decision','retirement': 'decision',\n",
    "                  'rich mitchell': 'decision','s': 'submission','split decision': 'decision',\n",
    "                  'subimssion': 'submission','submision': 'submission','submisison': 'submission',\n",
    "                  'submissio': 'submission','submissiom': 'submission','submission': 'submission',\n",
    "                  'submission armbar': 'submission','submission rear naked choke': 'submission',\n",
    "                  'submission verbal tap out': 'submission','submission(triangle choke)': 'submission',\n",
    "                  'submission-guillotine choke': 'submission','submisson': 'submission',\n",
    "                  'submssion': 'submission','tapout': 'submission','techincal submission': 'submission',\n",
    "                  'technial submission': 'submission','technical decision': 'decision',\n",
    "                  'technical submission': 'submission','technical sumbission': 'submission',\n",
    "                  'tko': 'ko','tko(punches)': 'ko','tko(strikes)': 'ko','tko/medical stoppage': 'ko',\n",
    "                  'towel': 'ko','ubmission': 'submission','unanimous decision': 'decision',\n",
    "                  'verbal submission': 'submission','walkover': 'decision','yko': 'ko'}\n",
    "    return methodsmap[x]\n",
    "    \n",
    "    \n",
    "\n",
    "def parse_date(timeinmilis):\n",
    "    \"\"\"Helper method for parsing date in miliseconds.\"\"\"\n",
    "    try:\n",
    "        timestamp = timeinmilis / 1000\n",
    "        res = datetime.utcfromtimestamp(timestamp)\n",
    "        return res\n",
    "    except:\n",
    "        return date(2000, 1, 1)\n",
    "    \n",
    "\n",
    "def clean_last_fight(x):\n",
    "    \"\"\"Cleans time since last fight calculations.\"\"\"\n",
    "    # If result is lower than 0 return 0\n",
    "    # It happens when it's fighters first fight\n",
    "    if x <= 0.0:\n",
    "        return 0.0\n",
    "    else:\n",
    "        return x\n",
    "\n",
    "    \n",
    "def get_label(event_timestamp):\n",
    "    \"\"\"Attaches the label based on fights date.\"\"\"\n",
    "    event_date = event_timestamp.date()\n",
    "    if event_date >= date(2015, 1, 1):\n",
    "        return 'test'\n",
    "    else:\n",
    "        return 'train'\n",
    "\n",
    "    \n",
    "def flatten(data, detailed=False):\n",
    "    \"\"\"Flattens the dataset features form dict\n",
    "    to a columns.\"\"\"\n",
    "    X = pd.DataFrame()\n",
    "    if detailed:\n",
    "        X['target'] = data['method'].apply(get_method)\n",
    "        X['target'] = X['target'] + data['result']\n",
    "    else:\n",
    "        X['target'] = data['result'].map({'win': 1, 'loss': 0})\n",
    "    for fighter in ['fighter', 'opponent']:\n",
    "        for key in ['started']:\n",
    "            curr = '{}_{}'.format(fighter, key)\n",
    "            first_fight_date = data[fighter].apply(lambda x: parse_date(x[key]))\n",
    "            event_date = data['date']\n",
    "            X[curr] = event_date - first_fight_date\n",
    "            X[curr] = X[curr].apply(lambda x: clean_last_fight(x.days))\n",
    "            \n",
    "            \n",
    "        for key in ['since_last_fight']:\n",
    "            curr = '{}_{}'.format(fighter, key)\n",
    "            X[curr] = data[fighter].apply(lambda x: x[key])\n",
    "\n",
    "        # Cumulative stats\n",
    "        stats = 'cumulative'\n",
    "        for key in ['loss', 'win']:\n",
    "            for result in ['loss', 'win']:\n",
    "                for method in ['decision', 'knockout', 'submission', 'total']:\n",
    "                    curr = '{}_{}_{}_{}_{}'.format(fighter, stats, key, result, method)\n",
    "                    X[curr] = data[fighter].apply(lambda x: x[stats][key][result][method])\n",
    "                    X[curr] = X[curr].apply(lambda x: float(x))\n",
    "\n",
    "        # Historical stats\n",
    "        stats = 'history'\n",
    "        for result in ['loss', 'win']:\n",
    "            for method in ['decision', 'knockout', 'submission', 'total']:\n",
    "                curr = '{}_{}_{}_{}'.format(fighter, stats, result, method)\n",
    "                X[curr] = data[fighter].apply(lambda x: x[stats][result][method])\n",
    "                X[curr] = X[curr].apply(lambda x: float(x))\n",
    "        for key in ['fights', 'positions', 'time']:\n",
    "            curr = '{}_{}_{}'.format(fighter, stats, key)\n",
    "            X[curr] = data[fighter].apply(lambda x: x[stats][key])\n",
    "            X[curr] = X[curr].apply(lambda x: float(x))\n",
    "        \n",
    "        # Streak\n",
    "        stats = 'streak'\n",
    "        for result in ['loss', 'win']:\n",
    "            curr = '{}_{}_{}'.format(fighter, stats, result)\n",
    "            X[curr] = data[fighter].apply(lambda x: x[stats][result])\n",
    "            X[curr] = X[curr].apply(lambda x: float(x))\n",
    "    \n",
    "    return X\n",
    "\n",
    "\n",
    "def train_test_split(data):\n",
    "    data['set'] = data['date'].apply(get_label)\n",
    "    train = data[data['set'] == 'train']\n",
    "    test = data[data['set'] == 'test']\n",
    "    return train, test\n",
    "\n",
    "def get_data(data, detailed=False, scaled=False):\n",
    "    \"\"\"Returns the dataset with train and test split\"\"\"\n",
    "    train, test = train_test_split(data)\n",
    "    \n",
    "    xtrain = flatten(train, detailed)\n",
    "    ytrain = xtrain['target']\n",
    "    xtrain.drop(['target'], axis=1, inplace=True)\n",
    "    xtrain.fillna(0, inplace=True)\n",
    "        \n",
    "    \n",
    "    xtest = flatten(test, detailed)\n",
    "    ytest = xtest['target']\n",
    "    xtest.drop(['target'], axis=1, inplace=True)\n",
    "    xtest.fillna(0, inplace=True)\n",
    "    \n",
    "    assert xtrain.shape[1] == xtest.shape[1]\n",
    "    \n",
    "    if scaled:\n",
    "        # Scale data\n",
    "        scaler = StandardScaler()\n",
    "        scaler.fit(xtrain)\n",
    "\n",
    "        xtrain = pd.DataFrame(scaler.transform(xtrain), columns=xtrain.columns)\n",
    "        xtest = pd.DataFrame(scaler.transform(xtest), columns=xtest.columns)\n",
    "    \n",
    "    print('{:.2f}% ({}) of fights in the training dataset'.format(\n",
    "        len(train)/len(data)*100, len(train)))\n",
    "    print('{:.2f}% ({}) of fights in the testing dataset'.format(\n",
    "        len(test)/len(data)*100, len(test)))\n",
    "    \n",
    "    return xtrain, xtest, ytrain, ytest"
   ]
  },
  {
   "cell_type": "code",
   "execution_count": 4,
   "metadata": {},
   "outputs": [
    {
     "name": "stdout",
     "output_type": "stream",
     "text": [
      "78.39% (335978) of fights in the training dataset\n",
      "21.61% (92636) of fights in the testing dataset\n"
     ]
    }
   ],
   "source": [
    "xtrain, xtest, ytrain, ytest = get_data(data, scaled=True)"
   ]
  },
  {
   "cell_type": "code",
   "execution_count": 5,
   "metadata": {},
   "outputs": [
    {
     "name": "stdout",
     "output_type": "stream",
     "text": [
      "LogisticRegression training 68.38%\n",
      "LogisticRegression testing 67.21%\n"
     ]
    },
    {
     "data": {
      "text/html": [
       "<div>\n",
       "<style scoped>\n",
       "    .dataframe tbody tr th:only-of-type {\n",
       "        vertical-align: middle;\n",
       "    }\n",
       "\n",
       "    .dataframe tbody tr th {\n",
       "        vertical-align: top;\n",
       "    }\n",
       "\n",
       "    .dataframe thead th {\n",
       "        text-align: right;\n",
       "    }\n",
       "</style>\n",
       "<table border=\"1\" class=\"dataframe\">\n",
       "  <thead>\n",
       "    <tr style=\"text-align: right;\">\n",
       "      <th></th>\n",
       "      <th>Importance</th>\n",
       "    </tr>\n",
       "  </thead>\n",
       "  <tbody>\n",
       "    <tr>\n",
       "      <th>fighter_cumulative_loss_win_submission</th>\n",
       "      <td>0.459607</td>\n",
       "    </tr>\n",
       "    <tr>\n",
       "      <th>opponent_cumulative_loss_win_submission</th>\n",
       "      <td>-0.459605</td>\n",
       "    </tr>\n",
       "    <tr>\n",
       "      <th>fighter_cumulative_win_win_submission</th>\n",
       "      <td>-0.326874</td>\n",
       "    </tr>\n",
       "    <tr>\n",
       "      <th>opponent_cumulative_win_win_submission</th>\n",
       "      <td>0.326872</td>\n",
       "    </tr>\n",
       "    <tr>\n",
       "      <th>fighter_cumulative_loss_win_total</th>\n",
       "      <td>0.318407</td>\n",
       "    </tr>\n",
       "  </tbody>\n",
       "</table>\n",
       "</div>"
      ],
      "text/plain": [
       "                                         Importance\n",
       "fighter_cumulative_loss_win_submission     0.459607\n",
       "opponent_cumulative_loss_win_submission   -0.459605\n",
       "fighter_cumulative_win_win_submission     -0.326874\n",
       "opponent_cumulative_win_win_submission     0.326872\n",
       "fighter_cumulative_loss_win_total          0.318407"
      ]
     },
     "execution_count": 5,
     "metadata": {},
     "output_type": "execute_result"
    }
   ],
   "source": [
    "logreg = LogisticRegression()\n",
    "logreg.fit(xtrain, ytrain)\n",
    "\n",
    "print('LogisticRegression training {:.2f}%'.format(\n",
    "    accuracy_score(ytrain, logreg.predict(xtrain))*100))\n",
    "print('LogisticRegression testing {:.2f}%'.format(\n",
    "    accuracy_score(ytest, logreg.predict(xtest))*100))\n",
    "feats = {feature: importance for feature, importance in zip(xtrain.columns, logreg.coef_[0])}\n",
    "importances = pd.DataFrame.from_dict(feats, orient='index')\n",
    "importances = importances.rename(columns={0: 'Importance', 1: 'Feature'})\n",
    "importances = importances.iloc[importances['Importance'].abs().argsort()].iloc[::-1]\n",
    "importances.head(5)"
   ]
  },
  {
   "cell_type": "code",
   "execution_count": 6,
   "metadata": {},
   "outputs": [
    {
     "name": "stdout",
     "output_type": "stream",
     "text": [
      "RandomForestClassifier training 77.99%\n",
      "RandomForestClassifier testing 76.37%\n"
     ]
    },
    {
     "data": {
      "text/html": [
       "<div>\n",
       "<style scoped>\n",
       "    .dataframe tbody tr th:only-of-type {\n",
       "        vertical-align: middle;\n",
       "    }\n",
       "\n",
       "    .dataframe tbody tr th {\n",
       "        vertical-align: top;\n",
       "    }\n",
       "\n",
       "    .dataframe thead th {\n",
       "        text-align: right;\n",
       "    }\n",
       "</style>\n",
       "<table border=\"1\" class=\"dataframe\">\n",
       "  <thead>\n",
       "    <tr style=\"text-align: right;\">\n",
       "      <th></th>\n",
       "      <th>Importance</th>\n",
       "    </tr>\n",
       "  </thead>\n",
       "  <tbody>\n",
       "    <tr>\n",
       "      <th>fighter_cumulative_win_win_total</th>\n",
       "      <td>0.072813</td>\n",
       "    </tr>\n",
       "    <tr>\n",
       "      <th>opponent_cumulative_win_win_total</th>\n",
       "      <td>0.069782</td>\n",
       "    </tr>\n",
       "    <tr>\n",
       "      <th>opponent_history_win_total</th>\n",
       "      <td>0.047503</td>\n",
       "    </tr>\n",
       "    <tr>\n",
       "      <th>fighter_history_win_total</th>\n",
       "      <td>0.043909</td>\n",
       "    </tr>\n",
       "    <tr>\n",
       "      <th>opponent_cumulative_win_win_submission</th>\n",
       "      <td>0.038911</td>\n",
       "    </tr>\n",
       "  </tbody>\n",
       "</table>\n",
       "</div>"
      ],
      "text/plain": [
       "                                        Importance\n",
       "fighter_cumulative_win_win_total          0.072813\n",
       "opponent_cumulative_win_win_total         0.069782\n",
       "opponent_history_win_total                0.047503\n",
       "fighter_history_win_total                 0.043909\n",
       "opponent_cumulative_win_win_submission    0.038911"
      ]
     },
     "execution_count": 6,
     "metadata": {},
     "output_type": "execute_result"
    }
   ],
   "source": [
    "rndf = RandomForestClassifier(min_samples_split=150, random_state=42)\n",
    "rndf.fit(xtrain, ytrain)\n",
    "\n",
    "print('RandomForestClassifier training {:.2f}%'.format(\n",
    "    accuracy_score(ytrain, rndf.predict(xtrain))*100))\n",
    "print('RandomForestClassifier testing {:.2f}%'.format(\n",
    "    accuracy_score(ytest, rndf.predict(xtest))*100))\n",
    "feats = {feature: importance for feature, importance in zip(xtrain.columns, rndf.feature_importances_)}\n",
    "importances = pd.DataFrame.from_dict(feats, orient='index')\n",
    "importances = importances.rename(columns={0: 'Importance', 1: 'Feature'})\n",
    "importances = importances.iloc[importances['Importance'].abs().argsort()].iloc[::-1]\n",
    "importances.head(5)"
   ]
  },
  {
   "cell_type": "markdown",
   "metadata": {},
   "source": [
    "# Neural Network"
   ]
  },
  {
   "cell_type": "markdown",
   "metadata": {},
   "source": [
    "## Choosing dropout"
   ]
  },
  {
   "cell_type": "code",
   "execution_count": 7,
   "metadata": {
    "collapsed": true
   },
   "outputs": [],
   "source": [
    "# Training the network\n",
    "batch_size = 8192\n",
    "verbosity = 0 # 1 to see the output at each epoch\n",
    "input_dim = xtrain.shape[1]"
   ]
  },
  {
   "cell_type": "code",
   "execution_count": 8,
   "metadata": {},
   "outputs": [],
   "source": [
    "model = Sequential()\n",
    "model.add(Dense(512, input_dim=input_dim, activation='relu'))\n",
    "model.add(Dense(256, activation='relu'))\n",
    "model.add(Dense(128, activation='relu'))\n",
    "model.add(Dense(64, activation='relu'))\n",
    "model.add(Dense(1, activation='sigmoid'))\n",
    "model.compile(loss='binary_crossentropy', optimizer='adam', metrics=['accuracy'])\n",
    "drop_0 = model.fit(xtrain.values, ytrain, epochs=250, batch_size=batch_size, \n",
    "                   validation_split=0.2, verbose=verbosity)"
   ]
  },
  {
   "cell_type": "code",
   "execution_count": 9,
   "metadata": {},
   "outputs": [
    {
     "name": "stdout",
     "output_type": "stream",
     "text": [
      "90112/92636 [============================>.] - ETA: 0s\b\b\b\b\b\b\b\b\b\b\b\b\b\b\b\b\b\b\b\b\b\b\b\b\b\b\b\b\b\b\b\b\b\b\b\b\b\b\b\b\b\b\b\b\b\b\b\b\b\b\b\b\b\b\b\b\b\b\b\b\b\b\b\b\b\b\b\b\b\b\b\b\b\b\b\b\b\b\b\b\b\b\b\b\b\b\b\b\b\b\b\b\b\b\b\b\b\b\b\b\b\b\b\b\b\b\b\b\n",
      "Neural Network with 0 Dropout layers testing 76.57%\n"
     ]
    }
   ],
   "source": [
    "scores = model.evaluate(xtest.values, ytest, batch_size=batch_size)\n",
    "print('\\nNeural Network with 0 Dropout layers testing {:.2f}%'.format(scores[1]*100))"
   ]
  },
  {
   "cell_type": "code",
   "execution_count": 10,
   "metadata": {},
   "outputs": [],
   "source": [
    "model = Sequential()\n",
    "model.add(Dense(512, input_dim=input_dim, activation='relu'))\n",
    "model.add(Dropout(0.2))\n",
    "model.add(Dense(256, activation='relu'))\n",
    "model.add(Dense(128, activation='relu'))\n",
    "model.add(Dense(64, activation='relu'))\n",
    "model.add(Dense(1, activation='sigmoid'))\n",
    "model.compile(loss='binary_crossentropy', optimizer='adam', metrics=['accuracy'])\n",
    "drop_1 = model.fit(xtrain.values, ytrain, epochs=250, batch_size=batch_size, \n",
    "                   validation_split=0.2, verbose=verbosity)"
   ]
  },
  {
   "cell_type": "code",
   "execution_count": 11,
   "metadata": {},
   "outputs": [
    {
     "name": "stdout",
     "output_type": "stream",
     "text": [
      "90112/92636 [============================>.] - ETA: 0s\b\b\b\b\b\b\b\b\b\b\b\b\b\b\b\b\b\b\b\b\b\b\b\b\b\b\b\b\b\b\b\b\b\b\b\b\b\b\b\b\b\b\b\b\b\b\b\b\b\b\b\b\b\b\b\b\b\b\b\b\b\b\b\b\b\b\b\b\b\b\b\b\b\b\b\b\b\b\b\b\b\b\b\b\b\b\b\b\b\b\b\b\b\b\b\b\b\b\b\b\b\b\b\b\b\b\b\b\n",
      "Neural Network with 1 Dropout layer testing 79.17%\n"
     ]
    }
   ],
   "source": [
    "scores = model.evaluate(xtest.values, ytest, batch_size=batch_size)\n",
    "print('\\nNeural Network with 1 Dropout layer testing {:.2f}%'.format(scores[1]*100))"
   ]
  },
  {
   "cell_type": "code",
   "execution_count": 12,
   "metadata": {},
   "outputs": [],
   "source": [
    "model = Sequential()\n",
    "model.add(Dense(512, input_dim=input_dim, activation='relu'))\n",
    "model.add(Dropout(0.2))\n",
    "model.add(Dense(256, activation='relu'))\n",
    "model.add(Dropout(0.2))\n",
    "model.add(Dense(128, activation='relu'))\n",
    "model.add(Dense(64, activation='relu'))\n",
    "model.add(Dense(1, activation='sigmoid'))\n",
    "model.compile(loss='binary_crossentropy', optimizer='adam', metrics=['accuracy'])\n",
    "drop_2 = model.fit(xtrain.values, ytrain, epochs=250, batch_size=batch_size, \n",
    "                   validation_split=0.2, verbose=verbosity)"
   ]
  },
  {
   "cell_type": "code",
   "execution_count": 13,
   "metadata": {},
   "outputs": [
    {
     "name": "stdout",
     "output_type": "stream",
     "text": [
      "90112/92636 [============================>.] - ETA: 0s\b\b\b\b\b\b\b\b\b\b\b\b\b\b\b\b\b\b\b\b\b\b\b\b\b\b\b\b\b\b\b\b\b\b\b\b\b\b\b\b\b\b\b\b\b\b\b\b\b\b\b\b\b\b\b\b\b\b\b\b\b\b\b\b\b\b\b\b\b\b\b\b\b\b\b\b\b\b\b\b\b\b\b\b\b\b\b\b\b\b\b\b\b\b\b\b\b\b\b\b\b\b\b\b\b\b\b\b\n",
      "Neural Network with 2 Dropout layers testing 79.33%\n"
     ]
    }
   ],
   "source": [
    "scores = model.evaluate(xtest.values, ytest, batch_size=batch_size)\n",
    "print('\\nNeural Network with 2 Dropout layers testing {:.2f}%'.format(scores[1]*100))"
   ]
  },
  {
   "cell_type": "code",
   "execution_count": 14,
   "metadata": {},
   "outputs": [],
   "source": [
    "model = Sequential()\n",
    "model.add(Dense(512, input_dim=input_dim, activation='relu'))\n",
    "model.add(Dropout(0.2))\n",
    "model.add(Dense(256, activation='relu'))\n",
    "model.add(Dropout(0.2))\n",
    "model.add(Dense(128, activation='relu'))\n",
    "model.add(Dropout(0.2))\n",
    "model.add(Dense(64, activation='relu'))\n",
    "model.add(Dense(1, activation='sigmoid'))\n",
    "model.compile(loss='binary_crossentropy', optimizer='adam', metrics=['accuracy'])\n",
    "drop_3 = model.fit(xtrain.values, ytrain, epochs=250, batch_size=batch_size, \n",
    "                   validation_split=0.2, verbose=verbosity)"
   ]
  },
  {
   "cell_type": "code",
   "execution_count": 15,
   "metadata": {},
   "outputs": [
    {
     "name": "stdout",
     "output_type": "stream",
     "text": [
      "90112/92636 [============================>.] - ETA: 0s\b\b\b\b\b\b\b\b\b\b\b\b\b\b\b\b\b\b\b\b\b\b\b\b\b\b\b\b\b\b\b\b\b\b\b\b\b\b\b\b\b\b\b\b\b\b\b\b\b\b\b\b\b\b\b\b\b\b\b\b\b\b\b\b\b\b\b\b\b\b\b\b\b\b\b\b\b\b\b\b\b\b\b\b\b\b\b\b\b\b\b\b\b\b\b\b\b\b\b\b\b\b\b\b\b\b\b\b\n",
      "Neural Network with 3 Dropout layers testing 79.71%\n"
     ]
    }
   ],
   "source": [
    "scores = model.evaluate(xtest.values, ytest, batch_size=batch_size)\n",
    "print('\\nNeural Network with 3 Dropout layers testing {:.2f}%'.format(scores[1]*100))"
   ]
  },
  {
   "cell_type": "code",
   "execution_count": 16,
   "metadata": {
    "collapsed": true
   },
   "outputs": [],
   "source": [
    "model = Sequential()\n",
    "model.add(Dense(512, input_dim=input_dim, activation='relu'))\n",
    "model.add(Dropout(0.2))\n",
    "model.add(Dense(256, activation='relu'))\n",
    "model.add(Dropout(0.2))\n",
    "model.add(Dense(128, activation='relu'))\n",
    "model.add(Dropout(0.2))\n",
    "model.add(Dense(64, activation='relu'))\n",
    "model.add(Dropout(0.2))\n",
    "model.add(Dense(1, activation='sigmoid'))\n",
    "model.compile(loss='binary_crossentropy', optimizer='adam', metrics=['accuracy'])\n",
    "drop_4 = model.fit(xtrain.values, ytrain, epochs=250, batch_size=batch_size, \n",
    "                   validation_split=0.2, verbose=verbosity)"
   ]
  },
  {
   "cell_type": "code",
   "execution_count": 17,
   "metadata": {},
   "outputs": [
    {
     "name": "stdout",
     "output_type": "stream",
     "text": [
      "90112/92636 [============================>.] - ETA: 0s\b\b\b\b\b\b\b\b\b\b\b\b\b\b\b\b\b\b\b\b\b\b\b\b\b\b\b\b\b\b\b\b\b\b\b\b\b\b\b\b\b\b\b\b\b\b\b\b\b\b\b\b\b\b\b\b\b\b\b\b\b\b\b\b\b\b\b\b\b\b\b\b\b\b\b\b\b\b\b\b\b\b\b\b\b\b\b\b\b\b\b\b\b\b\b\b\b\b\b\b\b\b\b\b\b\b\b\b\n",
      "Neural Network with 4 Dropout layers testing 75.08%\n"
     ]
    }
   ],
   "source": [
    "scores = model.evaluate(xtest.values, ytest, batch_size=batch_size)\n",
    "print('\\nNeural Network with 4 Dropout layers testing {:.2f}%'.format(scores[1]*100))"
   ]
  },
  {
   "cell_type": "code",
   "execution_count": 18,
   "metadata": {},
   "outputs": [
    {
     "data": {
      "image/png": "[encoded data removed]",
      "text/plain": [
       "<matplotlib.figure.Figure at 0x7f613ff77a58>"
      ]
     },
     "metadata": {},
     "output_type": "display_data"
    }
   ],
   "source": [
    "plt.plot(drop_0.history['val_loss'])\n",
    "plt.plot(drop_1.history['val_loss'])\n",
    "plt.plot(drop_2.history['val_loss'])\n",
    "plt.plot(drop_3.history['val_loss'])\n",
    "plt.plot(drop_4.history['val_loss'])\n",
    "plt.ylabel('Loss')\n",
    "plt.xlabel('Epoch')\n",
    "plt.legend(['0 Dropout', '1 Dropout', '2 Dropout', '3 Dropout', '4 Dropout'], loc='upper right')\n",
    "plt.show()"
   ]
  },
  {
   "cell_type": "markdown",
   "metadata": {},
   "source": [
    "## Choosing optimizer"
   ]
  },
  {
   "cell_type": "code",
   "execution_count": 19,
   "metadata": {
    "collapsed": true
   },
   "outputs": [],
   "source": [
    "# Training the network\n",
    "batch_size = 8192\n",
    "verbosity = 0 # 1 to see the output at each epoch\n",
    "input_dim = xtrain.shape[1]"
   ]
  },
  {
   "cell_type": "code",
   "execution_count": 20,
   "metadata": {},
   "outputs": [],
   "source": [
    "model = Sequential()\n",
    "model.add(Dense(512, input_dim=input_dim, activation='relu'))\n",
    "model.add(Dropout(0.2))\n",
    "model.add(Dense(256, activation='relu'))\n",
    "model.add(Dropout(0.2))\n",
    "model.add(Dense(128, activation='relu'))\n",
    "model.add(Dropout(0.2))\n",
    "model.add(Dense(64, activation='relu'))\n",
    "model.add(Dense(1, activation='sigmoid'))\n",
    "model.compile(loss='binary_crossentropy', optimizer='adam', metrics=['accuracy'])\n",
    "adam = model.fit(xtrain.values, ytrain, epochs=250, batch_size=batch_size, \n",
    "                 validation_split=0.2, verbose=verbosity)"
   ]
  },
  {
   "cell_type": "code",
   "execution_count": 21,
   "metadata": {},
   "outputs": [
    {
     "name": "stdout",
     "output_type": "stream",
     "text": [
      "90112/92636 [============================>.] - ETA: 0s\b\b\b\b\b\b\b\b\b\b\b\b\b\b\b\b\b\b\b\b\b\b\b\b\b\b\b\b\b\b\b\b\b\b\b\b\b\b\b\b\b\b\b\b\b\b\b\b\b\b\b\b\b\b\b\b\b\b\b\b\b\b\b\b\b\b\b\b\b\b\b\b\b\b\b\b\b\b\b\b\b\b\b\b\b\b\b\b\b\b\b\b\b\b\b\b\b\b\b\b\b\b\b\b\b\b\b\b\n",
      "Neural Network with Adam optimizer testing 79.73%\n"
     ]
    }
   ],
   "source": [
    "scores = model.evaluate(xtest.values, ytest, batch_size=batch_size)\n",
    "print('\\nNeural Network with Adam optimizer testing {:.2f}%'.format(scores[1]*100))"
   ]
  },
  {
   "cell_type": "code",
   "execution_count": 22,
   "metadata": {},
   "outputs": [],
   "source": [
    "model = Sequential()\n",
    "model.add(Dense(512, input_dim=input_dim, activation='relu'))\n",
    "model.add(Dropout(0.2))\n",
    "model.add(Dense(256, activation='relu'))\n",
    "model.add(Dropout(0.2))\n",
    "model.add(Dense(128, activation='relu'))\n",
    "model.add(Dropout(0.2))\n",
    "model.add(Dense(64, activation='relu'))\n",
    "model.add(Dense(1, activation='sigmoid'))\n",
    "model.compile(loss='binary_crossentropy', optimizer='sgd', metrics=['accuracy'])\n",
    "sgd = model.fit(xtrain.values, ytrain, epochs=250, batch_size=batch_size, \n",
    "                validation_split=0.2, verbose=verbosity)"
   ]
  },
  {
   "cell_type": "code",
   "execution_count": 23,
   "metadata": {},
   "outputs": [
    {
     "name": "stdout",
     "output_type": "stream",
     "text": [
      "90112/92636 [============================>.] - ETA: 0s\b\b\b\b\b\b\b\b\b\b\b\b\b\b\b\b\b\b\b\b\b\b\b\b\b\b\b\b\b\b\b\b\b\b\b\b\b\b\b\b\b\b\b\b\b\b\b\b\b\b\b\b\b\b\b\b\b\b\b\b\b\b\b\b\b\b\b\b\b\b\b\b\b\b\b\b\b\b\b\b\b\b\b\b\b\b\b\b\b\b\b\b\b\b\b\b\b\b\b\b\b\b\b\b\b\b\b\b\n",
      "Neural Network with SGD optimizer testing 70.50%\n"
     ]
    }
   ],
   "source": [
    "scores = model.evaluate(xtest.values, ytest, batch_size=batch_size)\n",
    "print('\\nNeural Network with SGD optimizer testing {:.2f}%'.format(scores[1]*100))"
   ]
  },
  {
   "cell_type": "code",
   "execution_count": 24,
   "metadata": {},
   "outputs": [],
   "source": [
    "model = Sequential()\n",
    "model.add(Dense(512, input_dim=input_dim, activation='relu'))\n",
    "model.add(Dropout(0.2))\n",
    "model.add(Dense(256, activation='relu'))\n",
    "model.add(Dropout(0.2))\n",
    "model.add(Dense(128, activation='relu'))\n",
    "model.add(Dropout(0.2))\n",
    "model.add(Dense(64, activation='relu'))\n",
    "model.add(Dense(1, activation='sigmoid'))\n",
    "model.compile(loss='binary_crossentropy', optimizer='rmsprop', metrics=['accuracy'])\n",
    "rmsprop = model.fit(xtrain.values, ytrain, epochs=250, batch_size=batch_size, \n",
    "                    validation_split=0.2, verbose=verbosity)"
   ]
  },
  {
   "cell_type": "code",
   "execution_count": 25,
   "metadata": {},
   "outputs": [
    {
     "name": "stdout",
     "output_type": "stream",
     "text": [
      "90112/92636 [============================>.] - ETA: 0s\b\b\b\b\b\b\b\b\b\b\b\b\b\b\b\b\b\b\b\b\b\b\b\b\b\b\b\b\b\b\b\b\b\b\b\b\b\b\b\b\b\b\b\b\b\b\b\b\b\b\b\b\b\b\b\b\b\b\b\b\b\b\b\b\b\b\b\b\b\b\b\b\b\b\b\b\b\b\b\b\b\b\b\b\b\b\b\b\b\b\b\b\b\b\b\b\b\b\b\b\b\b\b\b\b\b\b\b\n",
      "Neural Network with RMSprop optimizer testing 76.14%\n"
     ]
    }
   ],
   "source": [
    "scores = model.evaluate(xtest.values, ytest, batch_size=batch_size)\n",
    "print('\\nNeural Network with RMSprop optimizer testing {:.2f}%'.format(scores[1]*100))"
   ]
  },
  {
   "cell_type": "code",
   "execution_count": 26,
   "metadata": {},
   "outputs": [],
   "source": [
    "model = Sequential()\n",
    "model.add(Dense(512, input_dim=input_dim, activation='relu'))\n",
    "model.add(Dropout(0.2))\n",
    "model.add(Dense(256, activation='relu'))\n",
    "model.add(Dropout(0.2))\n",
    "model.add(Dense(128, activation='relu'))\n",
    "model.add(Dropout(0.2))\n",
    "model.add(Dense(64, activation='relu'))\n",
    "model.add(Dense(1, activation='sigmoid'))\n",
    "model.compile(loss='binary_crossentropy', optimizer='nadam', metrics=['accuracy'])\n",
    "batch_size = 8192\n",
    "nadam = model.fit(xtrain.values, ytrain, epochs=250, batch_size=batch_size, \n",
    "                  validation_split=0.2, verbose=verbosity)"
   ]
  },
  {
   "cell_type": "code",
   "execution_count": 27,
   "metadata": {},
   "outputs": [
    {
     "name": "stdout",
     "output_type": "stream",
     "text": [
      "90112/92636 [============================>.] - ETA: 0s\b\b\b\b\b\b\b\b\b\b\b\b\b\b\b\b\b\b\b\b\b\b\b\b\b\b\b\b\b\b\b\b\b\b\b\b\b\b\b\b\b\b\b\b\b\b\b\b\b\b\b\b\b\b\b\b\b\b\b\b\b\b\b\b\b\b\b\b\b\b\b\b\b\b\b\b\b\b\b\b\b\b\b\b\b\b\b\b\b\b\b\b\b\b\b\b\b\b\b\b\b\b\b\b\b\b\b\b\n",
      "Neural Network with Nadam optimizer testing 77.81%\n"
     ]
    }
   ],
   "source": [
    "scores = model.evaluate(xtest.values, ytest, batch_size=batch_size)\n",
    "print('\\nNeural Network with Nadam optimizer testing {:.2f}%'.format(scores[1]*100))"
   ]
  },
  {
   "cell_type": "code",
   "execution_count": 28,
   "metadata": {},
   "outputs": [],
   "source": [
    "model = Sequential()\n",
    "model.add(Dense(512, input_dim=input_dim, activation='relu'))\n",
    "model.add(Dropout(0.2))\n",
    "model.add(Dense(256, activation='relu'))\n",
    "model.add(Dropout(0.2))\n",
    "model.add(Dense(128, activation='relu'))\n",
    "model.add(Dropout(0.2))\n",
    "model.add(Dense(64, activation='relu'))\n",
    "model.add(Dense(1, activation='sigmoid'))\n",
    "model.compile(loss='binary_crossentropy', optimizer='adamax', metrics=['accuracy'])\n",
    "batch_size = 8192\n",
    "adamax = model.fit(xtrain.values, ytrain, epochs=250, batch_size=batch_size, \n",
    "                   validation_split=0.2, verbose=verbosity)"
   ]
  },
  {
   "cell_type": "code",
   "execution_count": 29,
   "metadata": {},
   "outputs": [
    {
     "name": "stdout",
     "output_type": "stream",
     "text": [
      "90112/92636 [============================>.] - ETA: 0s\b\b\b\b\b\b\b\b\b\b\b\b\b\b\b\b\b\b\b\b\b\b\b\b\b\b\b\b\b\b\b\b\b\b\b\b\b\b\b\b\b\b\b\b\b\b\b\b\b\b\b\b\b\b\b\b\b\b\b\b\b\b\b\b\b\b\b\b\b\b\b\b\b\b\b\b\b\b\b\b\b\b\b\b\b\b\b\b\b\b\b\b\b\b\b\b\b\b\b\b\b\b\b\b\b\b\b\b\n",
      "Neural Network with Adamax optimizer testing 79.73%\n"
     ]
    }
   ],
   "source": [
    "scores = model.evaluate(xtest.values, ytest, batch_size=batch_size)\n",
    "print('\\nNeural Network with Adamax optimizer testing {:.2f}%'.format(scores[1]*100))"
   ]
  },
  {
   "cell_type": "code",
   "execution_count": 30,
   "metadata": {},
   "outputs": [],
   "source": [
    "model = Sequential()\n",
    "model.add(Dense(512, input_dim=input_dim, activation='relu'))\n",
    "model.add(Dropout(0.2))\n",
    "model.add(Dense(256, activation='relu'))\n",
    "model.add(Dropout(0.2))\n",
    "model.add(Dense(128, activation='relu'))\n",
    "model.add(Dropout(0.2))\n",
    "model.add(Dense(64, activation='relu'))\n",
    "model.add(Dense(1, activation='sigmoid'))\n",
    "model.compile(loss='binary_crossentropy', optimizer='adagrad', metrics=['accuracy'])\n",
    "adagrad = model.fit(xtrain.values, ytrain, epochs=250, batch_size=batch_size, \n",
    "                    validation_split=0.2, verbose=verbosity)"
   ]
  },
  {
   "cell_type": "code",
   "execution_count": 31,
   "metadata": {},
   "outputs": [
    {
     "name": "stdout",
     "output_type": "stream",
     "text": [
      "90112/92636 [============================>.] - ETA: 0s\b\b\b\b\b\b\b\b\b\b\b\b\b\b\b\b\b\b\b\b\b\b\b\b\b\b\b\b\b\b\b\b\b\b\b\b\b\b\b\b\b\b\b\b\b\b\b\b\b\b\b\b\b\b\b\b\b\b\b\b\b\b\b\b\b\b\b\b\b\b\b\b\b\b\b\b\b\b\b\b\b\b\b\b\b\b\b\b\b\b\b\b\b\b\b\b\b\b\b\b\b\b\b\b\b\b\b\b\n",
      "Neural Network with Adagrad optimizer testing 79.12%\n"
     ]
    }
   ],
   "source": [
    "scores = model.evaluate(xtest.values, ytest, batch_size=batch_size)\n",
    "print('\\nNeural Network with Adagrad optimizer testing {:.2f}%'.format(scores[1]*100))"
   ]
  },
  {
   "cell_type": "code",
   "execution_count": 32,
   "metadata": {},
   "outputs": [
    {
     "data": {
      "image/png": "[encoded data removed]",
      "text/plain": [
       "<matplotlib.figure.Figure at 0x7f613de2fc50>"
      ]
     },
     "metadata": {},
     "output_type": "display_data"
    }
   ],
   "source": [
    "plt.plot(adam.history['val_loss'])\n",
    "plt.plot(rmsprop.history['val_loss'])\n",
    "plt.plot(sgd.history['val_loss'])\n",
    "plt.plot(nadam.history['val_loss'])\n",
    "plt.plot(adamax.history['val_loss'])\n",
    "plt.plot(adagrad.history['val_loss'])\n",
    "plt.ylabel('Loss')\n",
    "plt.xlabel('Epoch')\n",
    "plt.legend(['Adam', 'RMSprop', 'SGD', 'Nadam', 'Adamax', 'Adagrad'], loc='upper right')\n",
    "plt.show()"
   ]
  },
  {
   "cell_type": "markdown",
   "metadata": {},
   "source": [
    "# Multioutput predictions"
   ]
  },
  {
   "cell_type": "code",
   "execution_count": 33,
   "metadata": {},
   "outputs": [
    {
     "name": "stdout",
     "output_type": "stream",
     "text": [
      "78.39% (335978) of fights in the training dataset\n",
      "21.61% (92636) of fights in the testing dataset\n",
      "['kowin' 'koloss' 'decisionwin' 'submissionloss' 'submissionwin'\n",
      " 'decisionloss']\n"
     ]
    }
   ],
   "source": [
    "xtrain_multi_raw, xtest_multi_raw, ytrain_multi_raw, ytest_multi_raw = get_data(data, detailed=True, scaled=True)\n",
    "print(ytrain_multi_raw.unique())"
   ]
  },
  {
   "cell_type": "code",
   "execution_count": 34,
   "metadata": {},
   "outputs": [],
   "source": [
    "# Map actual values to integers\n",
    "mapping = {'kowin': 1, 'koloss': 2, \n",
    "           'decisionwin': 3, 'decisionloss': 4,\n",
    "           'submissionloss': 5, 'submissionwin': 6}\n",
    "ytrain_multi = ytrain_multi_raw.map(mapping)\n",
    "ytest_multi = ytest_multi_raw.map(mapping)\n",
    "xtrain_multi = xtrain_multi_raw\n",
    "xtest_multi = xtest_multi_raw"
   ]
  },
  {
   "cell_type": "code",
   "execution_count": 35,
   "metadata": {},
   "outputs": [
    {
     "name": "stdout",
     "output_type": "stream",
     "text": [
      "Basic accuracy is 18.33%\n",
      "Most frequent result is kowin\n"
     ]
    }
   ],
   "source": [
    "# Find the most frequent value\n",
    "counts = np.bincount(ytest_multi)\n",
    "most_frequent_result = np.argmax(counts)\n",
    "most_frequent = None\n",
    "for key, value in mapping.items():\n",
    "    if value == most_frequent_result:\n",
    "        most_frequent = key\n",
    "\n",
    "# Calculate the basic (most frequent prediction) accuracy      \n",
    "most_frequents = len(data[data['result'] == most_frequent_result])\n",
    "print('Basic accuracy is {:.2f}%'.format(max(counts)/len(ytest_multi)*100))\n",
    "print('Most frequent result is {}'.format(most_frequent))"
   ]
  },
  {
   "cell_type": "code",
   "execution_count": 36,
   "metadata": {},
   "outputs": [],
   "source": [
    "# Change targets to categorical\n",
    "ytrain_multi = to_categorical(ytrain_multi)\n",
    "ytest_multi = to_categorical(ytest_multi)\n",
    "# Training the network\n",
    "batch_size = 8192\n",
    "verbosity = 0 # 1 to see the output at each epoch\n",
    "input_dim = xtrain_multi.shape[1]"
   ]
  },
  {
   "cell_type": "code",
   "execution_count": 37,
   "metadata": {},
   "outputs": [],
   "source": [
    "model_multi = Sequential()\n",
    "model_multi.add(Dense(512, input_dim=input_dim, activation='relu'))\n",
    "model_multi.add(Dropout(0.2))\n",
    "model_multi.add(Dense(256, activation='relu'))\n",
    "model_multi.add(Dropout(0.2))\n",
    "model_multi.add(Dense(128, activation='relu'))\n",
    "model_multi.add(Dropout(0.2))\n",
    "model_multi.add(Dense(64, activation='relu'))\n",
    "model_multi.add(Dense(7, activation='sigmoid'))\n",
    "model_multi.compile(loss='categorical_crossentropy', optimizer='adamax', metrics=['accuracy'])\n",
    "hist_multi = model_multi.fit(xtrain_multi.values, ytrain_multi, epochs=250, \n",
    "                             batch_size=batch_size, validation_split=0.2, verbose=verbosity)"
   ]
  },
  {
   "cell_type": "code",
   "execution_count": 38,
   "metadata": {},
   "outputs": [
    {
     "name": "stdout",
     "output_type": "stream",
     "text": [
      "90112/92636 [============================>.] - ETA: 0s\b\b\b\b\b\b\b\b\b\b\b\b\b\b\b\b\b\b\b\b\b\b\b\b\b\b\b\b\b\b\b\b\b\b\b\b\b\b\b\b\b\b\b\b\b\b\b\b\b\b\b\b\b\b\b\b\b\b\b\b\b\b\b\b\b\b\b\b\b\b\b\b\b\b\b\b\b\b\b\b\b\b\b\b\b\b\b\b\b\b\b\b\b\b\b\b\b\b\b\b\b\b\b\b\b\b\b\b\n",
      "Neural Network multiouput testing 62.05%\n"
     ]
    }
   ],
   "source": [
    "scores = model_multi.evaluate(xtest_multi.values, ytest_multi, batch_size=batch_size)\n",
    "print('\\nNeural Network multiouput testing {:.2f}%'.format(scores[1]*100))"
   ]
  },
  {
   "cell_type": "code",
   "execution_count": 39,
   "metadata": {},
   "outputs": [
    {
     "data": {
      "image/png": "[encoded data removed]",
      "text/plain": [
       "<matplotlib.figure.Figure at 0x7f613fcd4198>"
      ]
     },
     "metadata": {},
     "output_type": "display_data"
    }
   ],
   "source": [
    "plt.plot(hist_multi.history['loss'])\n",
    "plt.plot(hist_multi.history['val_loss'])\n",
    "plt.ylabel('Loss')\n",
    "plt.xlabel('Epoch')\n",
    "plt.legend(['Training', 'Validation'], loc='upper right')\n",
    "plt.show()"
   ]
  },
  {
   "cell_type": "code",
   "execution_count": 40,
   "metadata": {},
   "outputs": [
    {
     "name": "stdout",
     "output_type": "stream",
     "text": [
      "RandomForestClassifier training 35.81%\n",
      "RandomForestClassifier testing 30.39%\n"
     ]
    },
    {
     "data": {
      "text/html": [
       "<div>\n",
       "<style scoped>\n",
       "    .dataframe tbody tr th:only-of-type {\n",
       "        vertical-align: middle;\n",
       "    }\n",
       "\n",
       "    .dataframe tbody tr th {\n",
       "        vertical-align: top;\n",
       "    }\n",
       "\n",
       "    .dataframe thead th {\n",
       "        text-align: right;\n",
       "    }\n",
       "</style>\n",
       "<table border=\"1\" class=\"dataframe\">\n",
       "  <thead>\n",
       "    <tr style=\"text-align: right;\">\n",
       "      <th></th>\n",
       "      <th>Importance</th>\n",
       "    </tr>\n",
       "  </thead>\n",
       "  <tbody>\n",
       "    <tr>\n",
       "      <th>opponent_cumulative_win_win_submission</th>\n",
       "      <td>0.036654</td>\n",
       "    </tr>\n",
       "    <tr>\n",
       "      <th>fighter_cumulative_win_win_submission</th>\n",
       "      <td>0.036378</td>\n",
       "    </tr>\n",
       "    <tr>\n",
       "      <th>fighter_cumulative_win_win_total</th>\n",
       "      <td>0.030902</td>\n",
       "    </tr>\n",
       "    <tr>\n",
       "      <th>opponent_history_time</th>\n",
       "      <td>0.030038</td>\n",
       "    </tr>\n",
       "    <tr>\n",
       "      <th>opponent_cumulative_win_win_knockout</th>\n",
       "      <td>0.029178</td>\n",
       "    </tr>\n",
       "  </tbody>\n",
       "</table>\n",
       "</div>"
      ],
      "text/plain": [
       "                                        Importance\n",
       "opponent_cumulative_win_win_submission    0.036654\n",
       "fighter_cumulative_win_win_submission     0.036378\n",
       "fighter_cumulative_win_win_total          0.030902\n",
       "opponent_history_time                     0.030038\n",
       "opponent_cumulative_win_win_knockout      0.029178"
      ]
     },
     "execution_count": 40,
     "metadata": {},
     "output_type": "execute_result"
    }
   ],
   "source": [
    "rndf_multi = RandomForestClassifier(min_samples_split=25, random_state=42)\n",
    "rndf_multi.fit(xtrain_multi, ytrain_multi)\n",
    "\n",
    "print('RandomForestClassifier training {:.2f}%'.format(\n",
    "    accuracy_score(ytrain_multi, rndf_multi.predict(xtrain_multi))*100))\n",
    "print('RandomForestClassifier testing {:.2f}%'.format(\n",
    "    accuracy_score(ytest_multi, rndf_multi.predict(xtest_multi))*100))\n",
    "feats = {feature: importance for feature, importance in zip(xtrain_multi.columns, rndf_multi.feature_importances_)}\n",
    "importances = pd.DataFrame.from_dict(feats, orient='index')\n",
    "importances = importances.rename(columns={0: 'Importance', 1: 'Feature'})\n",
    "importances = importances.iloc[importances['Importance'].abs().argsort()].iloc[::-1]\n",
    "importances.head(5)"
   ]
  },
  {
   "cell_type": "markdown",
   "metadata": {},
   "source": [
    "# Final Model"
   ]
  },
  {
   "cell_type": "code",
   "execution_count": 41,
   "metadata": {},
   "outputs": [],
   "source": [
    "# Training the network\n",
    "batch_size = 8192\n",
    "verbosity = 0 # 1 to see the output at each epoch\n",
    "input_dim = xtrain.shape[1]"
   ]
  },
  {
   "cell_type": "code",
   "execution_count": 42,
   "metadata": {},
   "outputs": [],
   "source": [
    "model = Sequential()\n",
    "model.add(Dense(512, input_dim=input_dim, activation='relu'))\n",
    "model.add(Dropout(0.2))\n",
    "model.add(Dense(256, activation='relu'))\n",
    "model.add(Dropout(0.2))\n",
    "model.add(Dense(128, activation='relu'))\n",
    "model.add(Dropout(0.2))\n",
    "model.add(Dense(64, activation='relu'))\n",
    "model.add(Dense(1, activation='sigmoid'))\n",
    "model.compile(loss='binary_crossentropy', optimizer='adamax', metrics=['accuracy'])\n",
    "hist = model.fit(xtrain.values, ytrain, epochs=250, batch_size=batch_size, \n",
    "                 validation_split=0.2, verbose=verbosity)"
   ]
  },
  {
   "cell_type": "code",
   "execution_count": 43,
   "metadata": {},
   "outputs": [
    {
     "name": "stdout",
     "output_type": "stream",
     "text": [
      "90112/92636 [============================>.] - ETA: 0s\b\b\b\b\b\b\b\b\b\b\b\b\b\b\b\b\b\b\b\b\b\b\b\b\b\b\b\b\b\b\b\b\b\b\b\b\b\b\b\b\b\b\b\b\b\b\b\b\b\b\b\b\b\b\b\b\b\b\b\b\b\b\b\b\b\b\b\b\b\b\b\b\b\b\b\b\b\b\b\b\b\b\b\b\b\b\b\b\b\b\b\b\b\b\b\b\b\b\b\b\b\b\b\b\b\b\b\b\n",
      "Neural Network testing 79.58%\n"
     ]
    }
   ],
   "source": [
    "scores = model.evaluate(xtest.values, ytest, batch_size=batch_size)\n",
    "print('\\nNeural Network testing {:.2f}%'.format(scores[1]*100))"
   ]
  },
  {
   "cell_type": "code",
   "execution_count": 44,
   "metadata": {},
   "outputs": [
    {
     "data": {
      "image/png": "[encoded data removed]",
      "text/plain": [
       "<matplotlib.figure.Figure at 0x7f6140c92860>"
      ]
     },
     "metadata": {},
     "output_type": "display_data"
    }
   ],
   "source": [
    "plt.plot(hist.history['loss'])\n",
    "plt.plot(hist.history['val_loss'])\n",
    "plt.ylabel('Loss')\n",
    "plt.xlabel('Epoch')\n",
    "plt.legend(['Training', 'Validation'], loc='upper right')\n",
    "plt.show()"
   ]
  },
  {
   "cell_type": "code",
   "execution_count": 45,
   "metadata": {},
   "outputs": [
    {
     "data": {
      "image/png": "[encoded data removed]",
      "text/plain": [
       "<matplotlib.figure.Figure at 0x7f6141d79b00>"
      ]
     },
     "metadata": {},
     "output_type": "display_data"
    }
   ],
   "source": [
    "plt.plot(hist.history['acc'])\n",
    "plt.plot(hist.history['val_acc'])\n",
    "plt.ylabel('Accuracy')\n",
    "plt.xlabel('Epoch')\n",
    "plt.legend(['Training', 'Validation'], loc='upper right')\n",
    "plt.show()"
   ]
  },
  {
   "cell_type": "markdown",
   "metadata": {
    "collapsed": true
   },
   "source": [
    "# Validate results"
   ]
  },
  {
   "cell_type": "code",
   "execution_count": 46,
   "metadata": {},
   "outputs": [],
   "source": [
    "train, test = train_test_split(data)\n",
    "test['predictions'] = model.predict(xtest.values)\n",
    "test['fighterid'] = test['fighter'].apply(lambda x: x['id'])\n",
    "test['opponentid'] = test['opponent'].apply(lambda x: x['id'])\n",
    "results = test.drop(['fighter', 'opponent', 'set', 'id', 'location', 'details'], axis=1)"
   ]
  },
  {
   "cell_type": "code",
   "execution_count": 47,
   "metadata": {
    "collapsed": true
   },
   "outputs": [],
   "source": [
    "def show_organization_stats():\n",
    "    \"\"\"Prints accuracies per organization\"\"\"\n",
    "    for organization in ['Ultimate Fighting Championship', \n",
    "                         'Bellator MMA',\n",
    "                         'Jungle Fight',\n",
    "                         'Konfrontacja Sztuk Walki',\n",
    "                         'Absolute Championship Berkut']:\n",
    "        subset = results[results['organization'] == organization]\n",
    "        score = accuracy_score(subset['result'].map({'win': 1, 'loss': 0}), \n",
    "                               subset['predictions'].apply(lambda x: round(x)))\n",
    "        print('{} accuracy score: {:.2f}%'.format(organization, score*100))"
   ]
  },
  {
   "cell_type": "code",
   "execution_count": 48,
   "metadata": {
    "collapsed": true
   },
   "outputs": [],
   "source": [
    "def show_yearly_stats():\n",
    "    \"\"\"Prints accuracies per years\"\"\"\n",
    "    results['year'] = results['date'].apply(lambda x: x.year)\n",
    "    for year in sorted(results['year'].unique().tolist()):\n",
    "        subset = results[results['year'] == year]\n",
    "        score = accuracy_score(subset['result'].map({'win': 1, 'loss': 0}),\n",
    "                               subset['predictions'].apply(lambda x: round(x)))\n",
    "        print('{} accuracy score: {:.2f}%'.format(year, score*100))"
   ]
  },
  {
   "cell_type": "markdown",
   "metadata": {},
   "source": [
    "## Unique prediction per fight"
   ]
  },
  {
   "cell_type": "code",
   "execution_count": 49,
   "metadata": {
    "collapsed": true
   },
   "outputs": [],
   "source": [
    "# Extract all the ids from test set\n",
    "ids = test['id'].unique()\n",
    "fights = test.T.to_dict().values()\n",
    "\n",
    "# Create fight pairs\n",
    "pairs = {}\n",
    "for fight in fights:\n",
    "    idx = fight['id']\n",
    "    if idx in pairs:\n",
    "        pairs[idx].append(fight)\n",
    "    else:\n",
    "        pairs[idx] = [fight]"
   ]
  },
  {
   "cell_type": "code",
   "execution_count": 50,
   "metadata": {
    "collapsed": true
   },
   "outputs": [],
   "source": [
    "# Create unique predictions per fight\n",
    "results = []\n",
    "for key, pair in pairs.items():\n",
    "    fighter = pair[0]\n",
    "    opponent = pair[1]\n",
    "    current = {'prediction': 0, 'result': 0}\n",
    "    if fighter['predictions'] > opponent['predictions']:\n",
    "        current['prediction'] = 1\n",
    "    else:\n",
    "        current['prediction'] = 0\n",
    "        \n",
    "    if fighter['result'] == 'win':\n",
    "        current['result'] = 1\n",
    "    else:\n",
    "        current['result'] = 0\n",
    "    \n",
    "    results.append(current)\n",
    "\n",
    "results = pd.DataFrame(results)"
   ]
  },
  {
   "cell_type": "code",
   "execution_count": 51,
   "metadata": {},
   "outputs": [
    {
     "name": "stdout",
     "output_type": "stream",
     "text": [
      "Accuracy score for unique predictions: 79.72%\n"
     ]
    }
   ],
   "source": [
    "score = accuracy_score(results['result'], results['prediction'])\n",
    "print('Accuracy score for unique predictions: {:.2f}%'.format(score*100))"
   ]
  },
  {
   "cell_type": "code",
   "execution_count": null,
   "metadata": {
    "collapsed": true
   },
   "outputs": [],
   "source": []
  }
 ],
 "metadata": {
  "anaconda-cloud": {},
  "kernelspec": {
   "display_name": "Python 3",
   "language": "python",
   "name": "python3"
  },
  "language_info": {
   "codemirror_mode": {
    "name": "ipython",
    "version": 3
   },
   "file_extension": ".py",
   "mimetype": "text/x-python",
   "name": "python",
   "nbconvert_exporter": "python",
   "pygments_lexer": "ipython3",
   "version": "3.6.1"
  },
  "widgets": {
   "state": {},
   "version": "1.1.2"
  }
 },
 "nbformat": 4,
 "nbformat_minor": 2
}
